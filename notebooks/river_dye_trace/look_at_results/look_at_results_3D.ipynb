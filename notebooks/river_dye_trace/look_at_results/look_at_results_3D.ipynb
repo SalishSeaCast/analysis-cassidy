{
 "cells": [
  {
   "cell_type": "code",
   "execution_count": 1,
   "metadata": {},
   "outputs": [],
   "source": [
    "from salishsea_tools import viz_tools\n",
    "import numpy as np\n",
    "import matplotlib.pyplot as plt\n",
    "import matplotlib as mpl\n",
    "import matplotlib.colors as colors\n",
    "import xarray as xr\n",
    "import cmocean.cm as cm\n",
    "import os\n",
    "import re"
   ]
  },
  {
   "cell_type": "code",
   "execution_count": 2,
   "metadata": {},
   "outputs": [
    {
     "ename": "FileNotFoundError",
     "evalue": "[Errno 2] No such file or directory: '01mar23_31mar23'",
     "output_type": "error",
     "traceback": [
      "\u001b[0;31m---------------------------------------------------------------------------\u001b[0m",
      "\u001b[0;31mFileNotFoundError\u001b[0m                         Traceback (most recent call last)",
      "Cell \u001b[0;32mIn [2], line 1\u001b[0m\n\u001b[0;32m----> 1\u001b[0m fnames \u001b[38;5;241m=\u001b[39m \u001b[43mos\u001b[49m\u001b[38;5;241;43m.\u001b[39;49m\u001b[43mlistdir\u001b[49m\u001b[43m(\u001b[49m\u001b[38;5;124;43m'\u001b[39;49m\u001b[38;5;124;43m01mar23_31mar23\u001b[39;49m\u001b[38;5;124;43m'\u001b[39;49m\u001b[43m)\u001b[49m\n",
      "\u001b[0;31mFileNotFoundError\u001b[0m: [Errno 2] No such file or directory: '01mar23_31mar23'"
     ]
    }
   ],
   "source": [
    "fnames = os.listdir('01mar23_31mar23')"
   ]
  },
  {
   "cell_type": "code",
   "execution_count": null,
   "metadata": {},
   "outputs": [
    {
     "ename": "",
     "evalue": "",
     "output_type": "error",
     "traceback": [
      "\u001b[1;31mFailed to start the Kernel. \n",
      "\u001b[1;31mUnable to start Kernel 'analysis-cassidy (Python 3.10.6)' due to a timeout waiting for the ports to get used. \n",
      "\u001b[1;31mView Jupyter <a href='command:jupyter.viewOutput'>log</a> for further details."
     ]
    }
   ],
   "source": [
    "grid_Ts = []\n",
    "rivr_Ts = []\n",
    "# grid_Us = []\n",
    "# grid_Vs = []\n",
    "\n",
    "for file in fnames:\n",
    "    print(file)\n",
    "    if re.search(r'.*grid_T*', file):\n",
    "        grid_Ts = grid_Ts + [xr.open_dataset('01mar23_31mar23/' + file)]\n",
    "\n",
    "    elif re.search(r'.*rivr_T*', file):\n",
    "        rivr_Ts = rivr_Ts + [xr.open_dataset('01mar23_31mar23/' + file)]\n",
    "\n",
    "    # elif re.search(r'.*grid_U*', file):\n",
    "    #     grid_Us = grid_Us + [xr.open_dataset('01mar23_31mar23/' + file)]\n",
    "\n",
    "    # elif re.search(r'.*grid_V*', file):\n",
    "    #     grid_Vs = grid_Vs + [xr.open_dataset('01mar23_31mar23/' + file)]\n",
    "\n",
    "    else:\n",
    "        print('no file match')"
   ]
  },
  {
   "cell_type": "code",
   "execution_count": null,
   "metadata": {},
   "outputs": [
    {
     "ename": "",
     "evalue": "",
     "output_type": "error",
     "traceback": [
      "\u001b[1;31mFailed to start the Kernel. \n",
      "\u001b[1;31mUnable to start Kernel 'analysis-cassidy (Python 3.10.6)' due to a timeout waiting for the ports to get used. \n",
      "\u001b[1;31mView Jupyter <a href='command:jupyter.viewOutput'>log</a> for further details."
     ]
    }
   ],
   "source": [
    "len(grid_Ts)"
   ]
  },
  {
   "cell_type": "code",
   "execution_count": null,
   "metadata": {},
   "outputs": [
    {
     "ename": "",
     "evalue": "",
     "output_type": "error",
     "traceback": [
      "\u001b[1;31mFailed to start the Kernel. \n",
      "\u001b[1;31mUnable to start Kernel 'analysis-cassidy (Python 3.10.6)' due to a timeout waiting for the ports to get used. \n",
      "\u001b[1;31mView Jupyter <a href='command:jupyter.viewOutput'>log</a> for further details."
     ]
    }
   ],
   "source": [
    "## import the entire dataset\n",
    "# phys_rivers = xr.open_dataset('01mar23_05mar23_prop/SalishSea_1h_20230301_20230305_grid_T_20230305-20230305.nc')\n",
    "# fw_rivers = xr.open_dataset('01mar23_05mar23_prop/SalishSea_1h_20230301_20230305_rivr_T_20230305-20230305.nc')\n",
    "# uvels = xr.open_dataset('01mar23_05mar23_prop/SalishSea_1h_20230301_20230305_grid_U_20230305-20230305.nc')\n",
    "# vvels = xr.open_dataset('01mar23_05mar23_prop/SalishSea_1h_20230301_20230305_grid_V_20230305-20230305.nc')\n",
    "\n",
    "phys_rivers = xr.open_dataset('01apr23_30apr23/SalishSea_1d_20230401_20230501_grid_T_20230401-20230401.nc')\n",
    "fw_rivers = xr.open_dataset('01apr23_30apr23/SalishSea_1d_20230401_20230501_rivr_T_20230401-20230401.nc')\n",
    "\n",
    "# phys_rivers = xr.open_dataset('01mar23_31mar23/SalishSea_1d_20230301_20230331_grid_T_20230331-20230331.nc')\n",
    "# fw_rivers = xr.open_dataset('01mar23_31mar23/SalishSea_1d_20230301_20230331_rivr_T_20230331-20230331.nc')\n",
    "# uvels = xr.open_dataset('01mar23_05mar23_prop/SalishSea_1h_20230301_20230305_grid_U_20230305-20230305.nc')\n",
    "# vvels = xr.open_dataset('01mar23_05mar23_prop/SalishSea_1h_20230301_20230305_grid_V_20230305-20230305.nc')\n",
    "\n",
    "# phys_rivers = xr.open_dataset('01mar23_31mar23/SalishSea_1d_20230301_20230331_grid_T_20230315-20230315.nc')\n",
    "# fw_rivers = xr.open_dataset('01mar23_31mar23/SalishSea_1d_20230301_20230331_rivr_T_20230315-20230315.nc')"
   ]
  },
  {
   "cell_type": "code",
   "execution_count": null,
   "metadata": {},
   "outputs": [
    {
     "ename": "",
     "evalue": "",
     "output_type": "error",
     "traceback": [
      "\u001b[1;31mFailed to start the Kernel. \n",
      "\u001b[1;31mUnable to start Kernel 'analysis-cassidy (Python 3.10.6)' due to a timeout waiting for the ports to get used. \n",
      "\u001b[1;31mView Jupyter <a href='command:jupyter.viewOutput'>log</a> for further details."
     ]
    }
   ],
   "source": [
    "phys_old = xr.open_dataset('../../../../../../../../results2/SalishSea/nowcast-green.202111/01mar23/SalishSea_1h_20230301_20230301_grid_T.nc')"
   ]
  },
  {
   "cell_type": "code",
   "execution_count": null,
   "metadata": {},
   "outputs": [
    {
     "ename": "",
     "evalue": "",
     "output_type": "error",
     "traceback": [
      "\u001b[1;31mFailed to start the Kernel. \n",
      "\u001b[1;31mUnable to start Kernel 'analysis-cassidy (Python 3.10.6)' due to a timeout waiting for the ports to get used. \n",
      "\u001b[1;31mView Jupyter <a href='command:jupyter.viewOutput'>log</a> for further details."
     ]
    }
   ],
   "source": [
    "mesh = xr.open_dataset('/home/sallen/MEOPAR/grid/mesh_mask202108.nc')\n",
    "# the mask is 1 where there is water, we want the opposite.  The meshmask has an extra dimension, hence the [0]\n",
    "tmask = 1 - mesh.tmask[0]"
   ]
  },
  {
   "cell_type": "markdown",
   "metadata": {},
   "source": [
    "## Surface salinity and temperature"
   ]
  },
  {
   "cell_type": "code",
   "execution_count": null,
   "metadata": {},
   "outputs": [
    {
     "ename": "",
     "evalue": "",
     "output_type": "error",
     "traceback": [
      "\u001b[1;31mFailed to start the Kernel. \n",
      "\u001b[1;31mUnable to start Kernel 'analysis-cassidy (Python 3.10.6)' due to a timeout waiting for the ports to get used. \n",
      "\u001b[1;31mView Jupyter <a href='command:jupyter.viewOutput'>log</a> for further details."
     ]
    }
   ],
   "source": [
    "cmap = cm.haline\n",
    "cmap.set_bad('gray')\n",
    "fig, ax = plt.subplots(1, 1, figsize=(5, 9))\n",
    "salinity = np.ma.masked_array(phys_rivers.vosaline[0, 0], mask=tmask[0])\n",
    "colours = ax.pcolormesh(salinity, cmap=cmap)\n",
    "cb = fig.colorbar(colours, ax=ax)\n",
    "cb.set_label('Salinity (g/kg)')"
   ]
  },
  {
   "cell_type": "code",
   "execution_count": null,
   "metadata": {},
   "outputs": [
    {
     "ename": "",
     "evalue": "",
     "output_type": "error",
     "traceback": [
      "\u001b[1;31mFailed to start the Kernel. \n",
      "\u001b[1;31mUnable to start Kernel 'analysis-cassidy (Python 3.10.6)' due to a timeout waiting for the ports to get used. \n",
      "\u001b[1;31mView Jupyter <a href='command:jupyter.viewOutput'>log</a> for further details."
     ]
    }
   ],
   "source": [
    "cmap = cm.thermal\n",
    "cmap.set_bad('gray')\n",
    "fig, ax = plt.subplots(1, 1, figsize=(5, 9))\n",
    "temp = np.ma.masked_array(phys_rivers.votemper[0, 0], mask=tmask[0])\n",
    "colours = ax.pcolormesh(temp, vmin=0, vmax=10, cmap=cmap)  #TODO: survey an entire year to pick the best vmax in the Salish Sea\n",
    "cb = fig.colorbar(colours, ax=ax)\n",
    "cb.set_label(r'Temperature ($^o C$)')"
   ]
  },
  {
   "cell_type": "markdown",
   "metadata": {},
   "source": [
    "## Check salinity and temp against the base run"
   ]
  },
  {
   "cell_type": "code",
   "execution_count": null,
   "metadata": {},
   "outputs": [
    {
     "ename": "",
     "evalue": "",
     "output_type": "error",
     "traceback": [
      "\u001b[1;31mFailed to start the Kernel. \n",
      "\u001b[1;31mUnable to start Kernel 'analysis-cassidy (Python 3.10.6)' due to a timeout waiting for the ports to get used. \n",
      "\u001b[1;31mView Jupyter <a href='command:jupyter.viewOutput'>log</a> for further details."
     ]
    }
   ],
   "source": [
    "tstep = 0\n",
    "\n",
    "cmap = mpl.colormaps['RdBu']\n",
    "cmap.set_bad('gray')\n",
    "fig, ax = plt.subplots(1, 1, figsize=(5, 9))\n",
    "salinity = np.ma.masked_array(phys_old.vosaline[tstep, 0] - phys_rivers.vosaline[tstep, 0], mask=tmask[0])\n",
    "colours = ax.pcolormesh(salinity, cmap=cmap, vmin=-1.5,vmax=1.5)\n",
    "cb = fig.colorbar(colours, ax=ax)\n",
    "cb.set_label('Salinity 1D Run - Salinity 3D Run (g/kg)')\n",
    "ax.set_title('Timestep = {}'.format(str(tstep)))"
   ]
  },
  {
   "cell_type": "code",
   "execution_count": null,
   "metadata": {},
   "outputs": [
    {
     "ename": "",
     "evalue": "",
     "output_type": "error",
     "traceback": [
      "\u001b[1;31mFailed to start the Kernel. \n",
      "\u001b[1;31mUnable to start Kernel 'analysis-cassidy (Python 3.10.6)' due to a timeout waiting for the ports to get used. \n",
      "\u001b[1;31mView Jupyter <a href='command:jupyter.viewOutput'>log</a> for further details."
     ]
    }
   ],
   "source": [
    "tstep = 0\n",
    "\n",
    "cmap = mpl.colormaps['RdBu']\n",
    "cmap.set_bad('gray')\n",
    "fig, ax = plt.subplots(1, 1, figsize=(5, 9))\n",
    "temperature = np.ma.masked_array(phys_old.votemper[tstep, 0] - phys_rivers.votemper[tstep, 0], mask=tmask[0])\n",
    "colours = ax.pcolormesh(temperature, cmap=cmap, vmin=-1, vmax=1)\n",
    "cb = fig.colorbar(colours, ax=ax)\n",
    "cb.set_label('Temp 1D Run - Temp 3D Run')\n",
    "ax.set_title('Timestep = {}'.format(str(tstep)))"
   ]
  },
  {
   "attachments": {},
   "cell_type": "markdown",
   "metadata": {},
   "source": [
    "## Rivers"
   ]
  },
  {
   "cell_type": "code",
   "execution_count": null,
   "metadata": {},
   "outputs": [
    {
     "ename": "",
     "evalue": "",
     "output_type": "error",
     "traceback": [
      "\u001b[1;31mFailed to start the Kernel. \n",
      "\u001b[1;31mUnable to start Kernel 'analysis-cassidy (Python 3.10.6)' due to a timeout waiting for the ports to get used. \n",
      "\u001b[1;31mView Jupyter <a href='command:jupyter.viewOutput'>log</a> for further details."
     ]
    }
   ],
   "source": [
    "import salishsea_tools.river_202108 as rivers"
   ]
  },
  {
   "cell_type": "code",
   "execution_count": null,
   "metadata": {},
   "outputs": [
    {
     "ename": "",
     "evalue": "",
     "output_type": "error",
     "traceback": [
      "\u001b[1;31mFailed to start the Kernel. \n",
      "\u001b[1;31mUnable to start Kernel 'analysis-cassidy (Python 3.10.6)' due to a timeout waiting for the ports to get used. \n",
      "\u001b[1;31mView Jupyter <a href='command:jupyter.viewOutput'>log</a> for further details."
     ]
    }
   ],
   "source": [
    "def river_box(w_shed, r_call, box_side):  #TODO: change this to include the other river that falls off the edge\n",
    "    river_idx = [rivers.prop_dict[w_shed][r_call]['i'], rivers.prop_dict[w_shed][r_call]['j']]\n",
    "    river_range = [river_idx[0] - box_side, river_idx[0] + box_side, river_idx[1] - box_side, river_idx[1] + box_side]\n",
    "\n",
    "    if (river_range[0] < 0):\n",
    "        river_range[0] = 0\n",
    "        river_range[1] = box_side*2\n",
    "\n",
    "    if (898 - river_range[1] < 0):\n",
    "        river_range[0] = 898-box_side*2\n",
    "        river_range[1] = 898\n",
    "\n",
    "    return river_range"
   ]
  },
  {
   "cell_type": "code",
   "execution_count": null,
   "metadata": {},
   "outputs": [
    {
     "ename": "",
     "evalue": "",
     "output_type": "error",
     "traceback": [
      "\u001b[1;31mFailed to start the Kernel. \n",
      "\u001b[1;31mUnable to start Kernel 'analysis-cassidy (Python 3.10.6)' due to a timeout waiting for the ports to get used. \n",
      "\u001b[1;31mView Jupyter <a href='command:jupyter.viewOutput'>log</a> for further details."
     ]
    }
   ],
   "source": [
    "box_size = 30\n",
    "# order (CW starting under the Fraser): Nooksack, Skagit, Snohomish, Nisqually, Elwha, Cowichan, Nanaimo, Puntledge, Salmon, Homathko, Squamish\n",
    "Nooksack = river_box('fraser', 'Nooksack', box_size)\n",
    "Skagit = river_box('skagit', 'Skagit1', box_size)\n",
    "Snohomish = river_box('skagit', 'SnohomishAllenQuilceda', box_size)\n",
    "Nisqually = river_box('puget', 'NisquallyMcAllister', box_size)\n",
    "Elwha = river_box('jdf', 'Elwha', box_size)\n",
    "Cowichan = river_box('evi_s', 'Cowichan1', box_size)\n",
    "Nanaimo = river_box('evi_s', 'Nanaimo1', box_size)\n",
    "Puntledge = river_box('evi_s', 'Puntledge', box_size)\n",
    "Salmon = river_box('evi_n', 'SalmonSayward', box_size)\n",
    "Homathko = river_box('bute', 'Homathko', box_size)\n",
    "Squamish = river_box('howe', 'Squamish', box_size)"
   ]
  },
  {
   "cell_type": "code",
   "execution_count": null,
   "metadata": {},
   "outputs": [
    {
     "ename": "",
     "evalue": "",
     "output_type": "error",
     "traceback": [
      "\u001b[1;31mFailed to start the Kernel. \n",
      "\u001b[1;31mUnable to start Kernel 'analysis-cassidy (Python 3.10.6)' due to a timeout waiting for the ports to get used. \n",
      "\u001b[1;31mView Jupyter <a href='command:jupyter.viewOutput'>log</a> for further details."
     ]
    }
   ],
   "source": [
    "gridX = np.arange(Nooksack[0],Nooksack[1])\n",
    "gridY = np.arange(Nooksack[2],Nooksack[3])"
   ]
  },
  {
   "cell_type": "markdown",
   "metadata": {},
   "source": [
    "# Visualizations of dye"
   ]
  },
  {
   "cell_type": "code",
   "execution_count": null,
   "metadata": {},
   "outputs": [
    {
     "ename": "",
     "evalue": "",
     "output_type": "error",
     "traceback": [
      "\u001b[1;31mFailed to start the Kernel. \n",
      "\u001b[1;31mUnable to start Kernel 'analysis-cassidy (Python 3.10.6)' due to a timeout waiting for the ports to get used. \n",
      "\u001b[1;31mView Jupyter <a href='command:jupyter.viewOutput'>log</a> for further details."
     ]
    }
   ],
   "source": [
    "fudge = .0001 # need to add very small number here because we can't do log of zero without weird effects in the masking"
   ]
  },
  {
   "cell_type": "code",
   "execution_count": null,
   "metadata": {},
   "outputs": [
    {
     "ename": "",
     "evalue": "",
     "output_type": "error",
     "traceback": [
      "\u001b[1;31mFailed to start the Kernel. \n",
      "\u001b[1;31mUnable to start Kernel 'analysis-cassidy (Python 3.10.6)' due to a timeout waiting for the ports to get used. \n",
      "\u001b[1;31mView Jupyter <a href='command:jupyter.viewOutput'>log</a> for further details."
     ]
    }
   ],
   "source": [
    "np.nansum(fw_rivers.nooksack_river[tstep, 0].to_numpy())"
   ]
  },
  {
   "cell_type": "code",
   "execution_count": null,
   "metadata": {},
   "outputs": [
    {
     "ename": "",
     "evalue": "",
     "output_type": "error",
     "traceback": [
      "\u001b[1;31mFailed to start the Kernel. \n",
      "\u001b[1;31mUnable to start Kernel 'analysis-cassidy (Python 3.10.6)' due to a timeout waiting for the ports to get used. \n",
      "\u001b[1;31mView Jupyter <a href='command:jupyter.viewOutput'>log</a> for further details."
     ]
    }
   ],
   "source": [
    "fw_rivers.skagit_river"
   ]
  },
  {
   "cell_type": "markdown",
   "metadata": {},
   "source": [
    "## View all dye in the domain"
   ]
  },
  {
   "cell_type": "code",
   "execution_count": null,
   "metadata": {},
   "outputs": [
    {
     "ename": "",
     "evalue": "",
     "output_type": "error",
     "traceback": [
      "\u001b[1;31mFailed to start the Kernel. \n",
      "\u001b[1;31mUnable to start Kernel 'analysis-cassidy (Python 3.10.6)' due to a timeout waiting for the ports to get used. \n",
      "\u001b[1;31mView Jupyter <a href='command:jupyter.viewOutput'>log</a> for further details."
     ]
    }
   ],
   "source": [
    "tstep = 0\n",
    "\n",
    "subset_rivers = fw_rivers.nooksack_river[tstep, 0] + fw_rivers.skagit_river[tstep, 0] + fw_rivers.snohomish_river[tstep, 0] + fw_rivers.nisqually_river[tstep, 0] + fw_rivers.elwha_river[tstep, 0] + \\\n",
    "    fw_rivers.cowichan_river[tstep, 0] + fw_rivers.nanaimo_river[tstep, 0] + fw_rivers.puntledge_river[tstep, 0] + fw_rivers.salmon_river[tstep, 0] + fw_rivers.homathko_river[tstep, 0] + \\\n",
    "    fw_rivers.squamish_river[tstep, 0]\n",
    "\n",
    "freshwater = np.ma.masked_array(subset_rivers, mask=tmask[0])\n",
    "\n",
    "X = np.arange(0,398)\n",
    "Y = np.arange(0,898)\n",
    "Z = freshwater + fudge\n",
    "\n",
    "cmap = mpl.colormaps['Reds']\n",
    "cmap.set_bad('grey')\n",
    "fig, ax = plt.subplots(1, 1, figsize=(5, 9))\n",
    "colours = ax.pcolormesh(X, Y, Z, norm=colors.LogNorm(vmin=fudge), cmap=cmap)\n",
    "cb = fig.colorbar(colours, ax=ax)\n",
    "cb.set_label('dye')\n",
    "ax.set_title('River Subset, Timestep = {}'.format(str(tstep)))"
   ]
  },
  {
   "cell_type": "code",
   "execution_count": null,
   "metadata": {},
   "outputs": [
    {
     "ename": "",
     "evalue": "",
     "output_type": "error",
     "traceback": [
      "\u001b[1;31mFailed to start the Kernel. \n",
      "\u001b[1;31mUnable to start Kernel 'analysis-cassidy (Python 3.10.6)' due to a timeout waiting for the ports to get used. \n",
      "\u001b[1;31mView Jupyter <a href='command:jupyter.viewOutput'>log</a> for further details."
     ]
    }
   ],
   "source": [
    "tstep = 0\n",
    "\n",
    "subset_rivers = fw_rivers.nooksack_river[tstep, 0]\n",
    "\n",
    "freshwater = np.ma.masked_array(subset_rivers, mask=tmask[0])\n",
    "\n",
    "X = np.arange(0,398)\n",
    "Y = np.arange(0,898)\n",
    "Z = freshwater + fudge\n",
    "\n",
    "cmap = mpl.colormaps['Reds']\n",
    "cmap.set_bad('grey')\n",
    "fig, ax = plt.subplots(1, 1, figsize=(5, 9))\n",
    "colours = ax.pcolormesh(X, Y, Z, norm=colors.LogNorm(vmin=fudge), cmap=cmap)\n",
    "cb = fig.colorbar(colours, ax=ax)\n",
    "cb.set_label('dye')\n",
    "ax.set_title('nooksack River, Timestep = {}'.format(str(tstep)))"
   ]
  },
  {
   "cell_type": "code",
   "execution_count": null,
   "metadata": {},
   "outputs": [
    {
     "ename": "",
     "evalue": "",
     "output_type": "error",
     "traceback": [
      "\u001b[1;31mFailed to start the Kernel. \n",
      "\u001b[1;31mUnable to start Kernel 'analysis-cassidy (Python 3.10.6)' due to a timeout waiting for the ports to get used. \n",
      "\u001b[1;31mView Jupyter <a href='command:jupyter.viewOutput'>log</a> for further details."
     ]
    }
   ],
   "source": [
    "tstep = 0\n",
    "\n",
    "freshwater = np.ma.masked_array(fw_rivers.other_rivers[tstep, 0], mask=tmask[0])\n",
    "\n",
    "X = np.arange(0,398)\n",
    "Y = np.arange(0,898)\n",
    "Z = freshwater + fudge\n",
    "\n",
    "cmap = mpl.colormaps['Reds']\n",
    "cmap.set_bad('grey')\n",
    "fig, ax = plt.subplots(1, 1, figsize=(5, 9))\n",
    "colours = ax.pcolormesh(X, Y, Z, norm=colors.LogNorm(vmin=fudge), cmap=cmap)\n",
    "cb = fig.colorbar(colours, ax=ax)\n",
    "cb.set_label('dye')\n",
    "ax.set_title('Other Rivers, Timestep = {}'.format(str(tstep)))"
   ]
  },
  {
   "cell_type": "code",
   "execution_count": null,
   "metadata": {},
   "outputs": [
    {
     "ename": "",
     "evalue": "",
     "output_type": "error",
     "traceback": [
      "\u001b[1;31mFailed to start the Kernel. \n",
      "\u001b[1;31mUnable to start Kernel 'analysis-cassidy (Python 3.10.6)' due to a timeout waiting for the ports to get used. \n",
      "\u001b[1;31mView Jupyter <a href='command:jupyter.viewOutput'>log</a> for further details."
     ]
    }
   ],
   "source": [
    "tstep = 0\n",
    "\n",
    "freshwater = np.ma.masked_array(fw_rivers.fraser_river[tstep, 0], mask=tmask[0])\n",
    "\n",
    "X = np.arange(0,398)\n",
    "Y = np.arange(0,898)\n",
    "Z = freshwater + fudge\n",
    "\n",
    "cmap = mpl.colormaps['Reds']\n",
    "cmap.set_bad('grey')\n",
    "fig, ax = plt.subplots(1, 1, figsize=(5, 9))\n",
    "colours = ax.pcolormesh(X, Y, Z, norm=colors.LogNorm(vmin=fudge), cmap=cmap)\n",
    "cb = fig.colorbar(colours, ax=ax)\n",
    "cb.set_label('dye')\n",
    "ax.set_title('Fraser River, Timestep = {}'.format(str(tstep)))"
   ]
  },
  {
   "cell_type": "markdown",
   "metadata": {},
   "source": [
    "## Surface plan views"
   ]
  },
  {
   "cell_type": "code",
   "execution_count": null,
   "metadata": {},
   "outputs": [
    {
     "ename": "",
     "evalue": "",
     "output_type": "error",
     "traceback": [
      "\u001b[1;31mFailed to start the Kernel. \n",
      "\u001b[1;31mUnable to start Kernel 'analysis-cassidy (Python 3.10.6)' due to a timeout waiting for the ports to get used. \n",
      "\u001b[1;31mView Jupyter <a href='command:jupyter.viewOutput'>log</a> for further details."
     ]
    }
   ],
   "source": [
    "tstep = 0\n",
    "freshwater = np.ma.masked_array(fw_rivers.nooksack_river[tstep, 0], mask=tmask[0])\n",
    "\n",
    "X = gridX\n",
    "Y = gridY\n",
    "Z = freshwater[Nooksack[0]:Nooksack[1], Nooksack[2]:Nooksack[3]] + fudge\n",
    "\n",
    "cmap = mpl.colormaps['Reds']\n",
    "cmap.set_bad('grey')\n",
    "fig, ax = plt.subplots(1, 1, figsize=(5, 5))\n",
    "colours = ax.pcolormesh(X, Y, Z, norm=colors.LogNorm(vmin=fudge), cmap=cmap)\n",
    "cb = fig.colorbar(colours, ax=ax)\n",
    "cb.set_label('freshwater nooksack')\n",
    "ax.set_title('Timestep = {}'.format(str(tstep)))"
   ]
  },
  {
   "cell_type": "code",
   "execution_count": null,
   "metadata": {},
   "outputs": [
    {
     "ename": "",
     "evalue": "",
     "output_type": "error",
     "traceback": [
      "\u001b[1;31mFailed to start the Kernel. \n",
      "\u001b[1;31mUnable to start Kernel 'analysis-cassidy (Python 3.10.6)' due to a timeout waiting for the ports to get used. \n",
      "\u001b[1;31mView Jupyter <a href='command:jupyter.viewOutput'>log</a> for further details."
     ]
    }
   ],
   "source": [
    "# tstep = 0\n",
    "\n",
    "# freshwater = np.ma.masked_array(fw_rivers.nooksack_river[tstep, 0], mask=tmask[0])\n",
    "# X = fw_rivers.nav_lon[Nooksack[0]:Nooksack[1], Nooksack[2]:Nooksack[3]]\n",
    "# Y = fw_rivers.nav_lat[Nooksack[0]:Nooksack[1], Nooksack[2]:Nooksack[3]]\n",
    "# Z = freshwater[Nooksack[0]:Nooksack[1], Nooksack[2]:Nooksack[3]] + fudge  # need to add very small number here because we can't do log of zero without weird effects in the masking\n",
    "\n",
    "# cmap = mpl.colormaps['Reds']\n",
    "# cmap.set_bad('gray')\n",
    "# fig, ax = plt.subplots(1, 1, figsize=(5, 5))\n",
    "\n",
    "# colours = ax.pcolormesh(X, Y, Z, norm=colors.LogNorm(vmin=fudge), cmap=cmap)\n",
    "# cb = fig.colorbar(colours, ax=ax)\n",
    "# cb.set_label('freshwater nooksack')\n",
    "# ax.set_title('Timestep = {}'.format(str(tstep)))"
   ]
  },
  {
   "cell_type": "code",
   "execution_count": null,
   "metadata": {},
   "outputs": [
    {
     "ename": "",
     "evalue": "",
     "output_type": "error",
     "traceback": [
      "\u001b[1;31mFailed to start the Kernel. \n",
      "\u001b[1;31mUnable to start Kernel 'analysis-cassidy (Python 3.10.6)' due to a timeout waiting for the ports to get used. \n",
      "\u001b[1;31mView Jupyter <a href='command:jupyter.viewOutput'>log</a> for further details."
     ]
    }
   ],
   "source": [
    "fw_rivers.nooksack_river"
   ]
  },
  {
   "cell_type": "code",
   "execution_count": null,
   "metadata": {},
   "outputs": [
    {
     "ename": "",
     "evalue": "",
     "output_type": "error",
     "traceback": [
      "\u001b[1;31mFailed to start the Kernel. \n",
      "\u001b[1;31mUnable to start Kernel 'analysis-cassidy (Python 3.10.6)' due to a timeout waiting for the ports to get used. \n",
      "\u001b[1;31mView Jupyter <a href='command:jupyter.viewOutput'>log</a> for further details."
     ]
    }
   ],
   "source": [
    "fw_rivers.nooksack_river[0][:, :, rivers.prop_dict['fraser']['Nooksack']['j']]"
   ]
  },
  {
   "cell_type": "code",
   "execution_count": null,
   "metadata": {},
   "outputs": [
    {
     "ename": "",
     "evalue": "",
     "output_type": "error",
     "traceback": [
      "\u001b[1;31mFailed to start the Kernel. \n",
      "\u001b[1;31mUnable to start Kernel 'analysis-cassidy (Python 3.10.6)' due to a timeout waiting for the ports to get used. \n",
      "\u001b[1;31mView Jupyter <a href='command:jupyter.viewOutput'>log</a> for further details."
     ]
    }
   ],
   "source": [
    "tmask[:, :, rivers.prop_dict['fraser']['Nooksack']['j']]"
   ]
  },
  {
   "cell_type": "code",
   "execution_count": null,
   "metadata": {},
   "outputs": [
    {
     "ename": "",
     "evalue": "",
     "output_type": "error",
     "traceback": [
      "\u001b[1;31mFailed to start the Kernel. \n",
      "\u001b[1;31mUnable to start Kernel 'analysis-cassidy (Python 3.10.6)' due to a timeout waiting for the ports to get used. \n",
      "\u001b[1;31mView Jupyter <a href='command:jupyter.viewOutput'>log</a> for further details."
     ]
    }
   ],
   "source": [
    "Z.shape"
   ]
  },
  {
   "cell_type": "markdown",
   "metadata": {},
   "source": [
    "## Side slice views"
   ]
  },
  {
   "cell_type": "code",
   "execution_count": null,
   "metadata": {},
   "outputs": [
    {
     "ename": "",
     "evalue": "",
     "output_type": "error",
     "traceback": [
      "\u001b[1;31mFailed to start the Kernel. \n",
      "\u001b[1;31mUnable to start Kernel 'analysis-cassidy (Python 3.10.6)' due to a timeout waiting for the ports to get used. \n",
      "\u001b[1;31mView Jupyter <a href='command:jupyter.viewOutput'>log</a> for further details."
     ]
    }
   ],
   "source": [
    "# vertical slice\n",
    "\n",
    "tstep = 0\n",
    "\n",
    "cmap = mpl.colormaps['Reds']\n",
    "cmap.set_bad('gray')\n",
    "fig, ax = plt.subplots(1, 1, figsize=(15, 5))\n",
    "freshwater = np.ma.masked_array(fw_rivers.nooksack_river[tstep][:, :, rivers.prop_dict['fraser']['Nooksack']['j']], mask=tmask[:, :, rivers.prop_dict['fraser']['Nooksack']['j']])\n",
    "\n",
    "X = fw_rivers.nav_lat[Nooksack[0]:Nooksack[1], rivers.prop_dict['fraser']['Nooksack']['j']+1]\n",
    "Y = fw_rivers.deptht\n",
    "Z = freshwater[:, Nooksack[0]:Nooksack[1]] + fudge\n",
    "\n",
    "colours = ax.pcolormesh(X, Y, Z, norm=colors.LogNorm(vmin=fudge), cmap=cmap)\n",
    "\n",
    "cb = fig.colorbar(colours, ax=ax)\n",
    "cb.set_label('freshwater nooksack')\n",
    "ax.set_title('Timestep = {}'.format(str(tstep)))\n",
    "ax.set_ylim(0, 20)\n",
    "\n",
    "plt.gca().invert_yaxis()\n",
    "plt.gca().invert_xaxis()"
   ]
  },
  {
   "cell_type": "code",
   "execution_count": null,
   "metadata": {},
   "outputs": [
    {
     "ename": "",
     "evalue": "",
     "output_type": "error",
     "traceback": [
      "\u001b[1;31mFailed to start the Kernel. \n",
      "\u001b[1;31mUnable to start Kernel 'analysis-cassidy (Python 3.10.6)' due to a timeout waiting for the ports to get used. \n",
      "\u001b[1;31mView Jupyter <a href='command:jupyter.viewOutput'>log</a> for further details."
     ]
    }
   ],
   "source": [
    "# horizontal slice\n",
    "\n",
    "tstep = 0\n",
    "\n",
    "cmap = mpl.colormaps['Reds']\n",
    "cmap.set_bad('gray')\n",
    "fig, ax = plt.subplots(1, 1, figsize=(15, 5))\n",
    "freshwater = np.ma.masked_array(fw_rivers.nooksack_river[tstep, :, rivers.prop_dict['fraser']['Nooksack']['i'], :], mask=tmask[:, rivers.prop_dict['fraser']['Nooksack']['i'], :])\n",
    "\n",
    "X = fw_rivers.nav_lon[rivers.prop_dict['fraser']['Nooksack']['i']+1, Nooksack[2]:Nooksack[3]]\n",
    "Y = fw_rivers.deptht\n",
    "Z = freshwater[:, Nooksack[2]:Nooksack[3]] + fudge\n",
    "\n",
    "colours = ax.pcolormesh(X, Y, Z, norm=colors.LogNorm(vmin=fudge), cmap=cmap)\n",
    "\n",
    "cb = fig.colorbar(colours, ax=ax)\n",
    "cb.set_label('freshwater nooksack')\n",
    "ax.set_title('Timestep = {}'.format(str(tstep)))\n",
    "ax.set_ylim(0, 20)\n",
    "\n",
    "plt.gca().invert_yaxis()"
   ]
  },
  {
   "cell_type": "markdown",
   "metadata": {},
   "source": [
    "# Sum views"
   ]
  },
  {
   "cell_type": "code",
   "execution_count": null,
   "metadata": {},
   "outputs": [
    {
     "ename": "",
     "evalue": "",
     "output_type": "error",
     "traceback": [
      "\u001b[1;31mFailed to start the Kernel. \n",
      "\u001b[1;31mUnable to start Kernel 'analysis-cassidy (Python 3.10.6)' due to a timeout waiting for the ports to get used. \n",
      "\u001b[1;31mView Jupyter <a href='command:jupyter.viewOutput'>log</a> for further details."
     ]
    }
   ],
   "source": [
    "tstep = 0\n",
    "\n",
    "cmap = mpl.colormaps['Reds']\n",
    "cmap.set_bad('gray')\n",
    "fig, ax = plt.subplots(1, 1, figsize=(5, 5))\n",
    "freshwater = np.ma.masked_array(fw_rivers.nooksack_river[tstep, :], mask=tmask[:])\n",
    "freshwater = freshwater.sum(axis=0)\n",
    "\n",
    "X = gridX\n",
    "Y = gridY\n",
    "Z = freshwater[Nooksack[0]:Nooksack[1], Nooksack[2]:Nooksack[3]] + fudge\n",
    "\n",
    "colours = ax.pcolormesh(X, Y, Z, norm=colors.LogNorm(vmin=fudge), cmap=cmap)\n",
    "cb = fig.colorbar(colours, ax=ax)\n",
    "cb.set_label('freshwater nooksack')\n",
    "ax.set_title('Plan Sum \\nTimestep = {}'.format(str(tstep)))"
   ]
  },
  {
   "cell_type": "code",
   "execution_count": null,
   "metadata": {},
   "outputs": [
    {
     "ename": "",
     "evalue": "",
     "output_type": "error",
     "traceback": [
      "\u001b[1;31mFailed to start the Kernel. \n",
      "\u001b[1;31mUnable to start Kernel 'analysis-cassidy (Python 3.10.6)' due to a timeout waiting for the ports to get used. \n",
      "\u001b[1;31mView Jupyter <a href='command:jupyter.viewOutput'>log</a> for further details."
     ]
    }
   ],
   "source": [
    "# vertical slice sum\n",
    "sum_size = 30\n",
    "tstep = 0\n",
    "\n",
    "cmap = mpl.colormaps['Reds']\n",
    "cmap.set_bad('gray')\n",
    "fig, ax = plt.subplots(1, 1, figsize=(15, 5))\n",
    "freshwater = np.ma.masked_array(fw_rivers.nooksack_river[tstep, :, :, :], mask=tmask[:, :, :])\n",
    "\n",
    "X = fw_rivers.nav_lat[Nooksack[0]:Nooksack[1], rivers.prop_dict['fraser']['Nooksack']['j']+1]\n",
    "Y = fw_rivers.deptht\n",
    "Z = np.ma.masked_array(freshwater[:, Nooksack[0]:Nooksack[1], rivers.prop_dict['fraser']['Nooksack']['j']-sum_size:rivers.prop_dict['fraser']['Nooksack']['j']+sum_size].sum(axis=2), mask=tmask[:, Nooksack[0]:Nooksack[1], rivers.prop_dict['fraser']['Nooksack']['j']])\n",
    "\n",
    "colours = ax.pcolormesh(X, Y, Z, norm=colors.LogNorm(vmin=fudge), cmap=cmap)\n",
    "\n",
    "cb = fig.colorbar(colours, ax=ax)\n",
    "cb.set_label('freshwater nooksack')\n",
    "ax.set_title('Slice Sum \\nTimestep = {}'.format(str(tstep)))\n",
    "ax.set_ylim(0, 20)\n",
    "\n",
    "plt.gca().invert_yaxis()\n",
    "plt.gca().invert_xaxis()"
   ]
  },
  {
   "cell_type": "code",
   "execution_count": null,
   "metadata": {},
   "outputs": [
    {
     "ename": "",
     "evalue": "",
     "output_type": "error",
     "traceback": [
      "\u001b[1;31mFailed to start the Kernel. \n",
      "\u001b[1;31mUnable to start Kernel 'analysis-cassidy (Python 3.10.6)' due to a timeout waiting for the ports to get used. \n",
      "\u001b[1;31mView Jupyter <a href='command:jupyter.viewOutput'>log</a> for further details."
     ]
    }
   ],
   "source": [
    "# horizontal slice sum\n",
    "sum_size = 30\n",
    "tstep = 0\n",
    "\n",
    "cmap = mpl.colormaps['Reds']\n",
    "cmap.set_bad('gray')\n",
    "fig, ax = plt.subplots(1, 1, figsize=(15, 5))\n",
    "freshwater = np.ma.masked_array(fw_rivers.nooksack_river[tstep, :, :, :], mask=tmask[:, :, :])\n",
    "\n",
    "X = fw_rivers.nav_lon[rivers.prop_dict['fraser']['Nooksack']['i']+1, Nooksack[2]:Nooksack[3]]\n",
    "Y = fw_rivers.deptht\n",
    "Z = np.ma.masked_array(freshwater[:, rivers.prop_dict['fraser']['Nooksack']['i']-sum_size:rivers.prop_dict['fraser']['Nooksack']['i']+sum_size, Nooksack[2]:Nooksack[3]].sum(axis=1), mask=tmask[:, rivers.prop_dict['fraser']['Nooksack']['i'], Nooksack[2]:Nooksack[3]])\n",
    "\n",
    "colours = ax.pcolormesh(X, Y, Z, norm=colors.LogNorm(vmin=fudge), cmap=cmap)\n",
    "\n",
    "cb = fig.colorbar(colours, ax=ax)\n",
    "cb.set_label('freshwater nooksack')\n",
    "ax.set_title('Slice Sum \\nTimestep = {}'.format(str(tstep)))\n",
    "ax.set_ylim(0, 20)\n",
    "\n",
    "plt.gca().invert_yaxis()"
   ]
  },
  {
   "cell_type": "markdown",
   "metadata": {},
   "source": [
    "# Surface velocity"
   ]
  },
  {
   "cell_type": "code",
   "execution_count": null,
   "metadata": {},
   "outputs": [
    {
     "ename": "",
     "evalue": "",
     "output_type": "error",
     "traceback": [
      "\u001b[1;31mFailed to start the Kernel. \n",
      "\u001b[1;31mUnable to start Kernel 'analysis-cassidy (Python 3.10.6)' due to a timeout waiting for the ports to get used. \n",
      "\u001b[1;31mView Jupyter <a href='command:jupyter.viewOutput'>log</a> for further details."
     ]
    }
   ],
   "source": [
    "zoom_fac = 13\n",
    "tstep = 0\n",
    "\n",
    "\n",
    "vel_mag = np.sqrt(vvels.vomecrty[tstep, 0]**2 + vvels.vomecrty[tstep, 0]**2)\n",
    "\n",
    "cmap = cm.speed\n",
    "cmap.set_bad('gray')\n",
    "fig, ax = plt.subplots(1, 1, figsize=(5, 5))\n",
    "\n",
    "u_vels = np.ma.masked_array(uvels.vozocrtx[tstep, 0], mask=tmask[0])[Nooksack[0]:Nooksack[1], Nooksack[2]:Nooksack[3]]\n",
    "v_vels = np.ma.masked_array(vvels.vomecrty[tstep, 0], mask=tmask[0])[Nooksack[0]:Nooksack[1], Nooksack[2]:Nooksack[3]]\n",
    "freshwater = np.ma.masked_array(vel_mag, mask=tmask[0])\n",
    "\n",
    "X = gridX\n",
    "Y = gridY\n",
    "Z = freshwater[Nooksack[0]:Nooksack[1], Nooksack[2]:Nooksack[3]] + fudge\n",
    "\n",
    "colours = ax.pcolormesh(X, Y, Z, vmin=0, vmax=1, cmap=cmap)\n",
    "cb = fig.colorbar(colours, ax=ax)\n",
    "cb.set_label('velocity magnitude (m/s)')\n",
    "\n",
    "X, Y = np.meshgrid(X, Y)\n",
    "\n",
    "ax.quiver(X, Y, u_vels, v_vels, scale=5)\n",
    "ax.set_title('Velocity \\nTimestep = {}'.format(str(tstep)))\n",
    "ax.set_xlim(Nooksack[0]+zoom_fac, Nooksack[1]-zoom_fac)\n",
    "ax.set_ylim(Nooksack[2]+zoom_fac, Nooksack[3]-zoom_fac)"
   ]
  },
  {
   "cell_type": "code",
   "execution_count": null,
   "metadata": {},
   "outputs": [
    {
     "ename": "",
     "evalue": "",
     "output_type": "error",
     "traceback": [
      "\u001b[1;31mFailed to start the Kernel. \n",
      "\u001b[1;31mUnable to start Kernel 'analysis-cassidy (Python 3.10.6)' due to a timeout waiting for the ports to get used. \n",
      "\u001b[1;31mView Jupyter <a href='command:jupyter.viewOutput'>log</a> for further details."
     ]
    }
   ],
   "source": [
    "#TODO: likely in another script, should i have one that has each individual water? if not, i need to show that they are far enough away that they don't really interact. when does water no longer \"belong\" to each river?"
   ]
  }
 ],
 "metadata": {
  "kernelspec": {
   "display_name": "analysis-cassidy",
   "language": "python",
   "name": "python3"
  },
  "language_info": {
   "codemirror_mode": {
    "name": "ipython",
    "version": 3
   },
   "file_extension": ".py",
   "mimetype": "text/x-python",
   "name": "python",
   "nbconvert_exporter": "python",
   "pygments_lexer": "ipython3",
   "version": "3.10.6"
  },
  "orig_nbformat": 4
 },
 "nbformat": 4,
 "nbformat_minor": 2
}
