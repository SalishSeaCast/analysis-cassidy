{
 "cells": [
  {
   "cell_type": "code",
   "execution_count": 1,
   "metadata": {},
   "outputs": [],
   "source": [
    "import numpy as np\n",
    "import xarray as xr\n",
    "import glob\n",
    "import salishsea_tools.river_202108 as rivers"
   ]
  },
  {
   "cell_type": "code",
   "execution_count": 2,
   "metadata": {},
   "outputs": [],
   "source": [
    "fnames_phys = glob.glob('01mar23_31mar23/*_grid_T_*.nc') + glob.glob('01apr23_30apr23/*_grid_T_*.nc')\n",
    "fnames_fw = glob.glob('01mar23_31mar23/*_rivr_T_*.nc') +glob.glob('01apr23_30apr23/*_rivr_T_*.nc')"
   ]
  },
  {
   "cell_type": "code",
   "execution_count": 3,
   "metadata": {},
   "outputs": [],
   "source": [
    "phys_rivers = xr.open_mfdataset(fnames_phys)\n",
    "fw_rivers = xr.open_mfdataset(fnames_fw)"
   ]
  },
  {
   "cell_type": "code",
   "execution_count": 4,
   "metadata": {},
   "outputs": [],
   "source": [
    "mesh = xr.open_dataset('/home/sallen/MEOPAR/grid/mesh_mask202108.nc')\n",
    "# the mask is 1 where there is water, we want the opposite.  The meshmask has an extra dimension, hence the [0]\n",
    "tmask = 1 - mesh.tmask[0]"
   ]
  },
  {
   "cell_type": "code",
   "execution_count": 5,
   "metadata": {},
   "outputs": [],
   "source": [
    "def river_box(w_shed, r_call, box_side):  #TODO: change this to include the other river that falls off the edge\n",
    "    river_idx = [rivers.prop_dict[w_shed][r_call]['i'], rivers.prop_dict[w_shed][r_call]['j']]\n",
    "    river_range = [river_idx[0] - box_side, river_idx[0] + box_side, river_idx[1] - box_side, river_idx[1] + box_side]\n",
    "\n",
    "    if (river_range[0] < 0):\n",
    "        river_range[0] = 0\n",
    "        river_range[1] = box_side*2\n",
    "\n",
    "    if (898 - river_range[1] < 0):\n",
    "        river_range[0] = 898-box_side*2\n",
    "        river_range[1] = 898\n",
    "\n",
    "    return river_range"
   ]
  },
  {
   "cell_type": "code",
   "execution_count": 6,
   "metadata": {},
   "outputs": [],
   "source": [
    "box_size = 40\n",
    "# order (CW starting under the Fraser): Nooksack, Skagit, Snohomish, Nisqually, Elwha, Cowichan, Nanaimo, Puntledge, Salmon, Homathko, Squamish\n",
    "Nooksack = river_box('fraser', 'Nooksack', box_size)\n",
    "Skagit = river_box('skagit', 'Skagit1', box_size)\n",
    "Snohomish = river_box('skagit', 'SnohomishAllenQuilceda', box_size)\n",
    "Nisqually = river_box('puget', 'NisquallyMcAllister', box_size)\n",
    "Elwha = river_box('jdf', 'Elwha', box_size)\n",
    "Cowichan = river_box('evi_s', 'Cowichan1', box_size)\n",
    "Nanaimo = river_box('evi_s', 'Nanaimo1', box_size)\n",
    "Puntledge = river_box('evi_s', 'Puntledge', box_size)\n",
    "Salmon = river_box('evi_n', 'SalmonSayward', box_size)\n",
    "Homathko = river_box('bute', 'Homathko', box_size)\n",
    "Squamish = river_box('howe', 'Squamish', box_size)"
   ]
  },
  {
   "cell_type": "code",
   "execution_count": 7,
   "metadata": {},
   "outputs": [],
   "source": [
    "Nooksack_arr = fw_rivers.nooksack_river[:, 0, Nooksack[0]:Nooksack[1], Nooksack[2]:Nooksack[3]].sum(axis=2).sum(axis=1)\n",
    "Nooksack_arr = Nooksack_arr.to_numpy()"
   ]
  },
  {
   "cell_type": "code",
   "execution_count": 8,
   "metadata": {},
   "outputs": [],
   "source": [
    "Skagit_arr = fw_rivers.skagit_river[:, 0, Nooksack[0]:Nooksack[1], Nooksack[2]:Nooksack[3]].sum(axis=2).sum(axis=1)\n",
    "Skagit_arr = Skagit_arr.to_numpy()"
   ]
  },
  {
   "cell_type": "code",
   "execution_count": 9,
   "metadata": {},
   "outputs": [],
   "source": [
    "Snohomish_arr = fw_rivers.snohomish_river[:, 0, Nooksack[0]:Nooksack[1], Nooksack[2]:Nooksack[3]].sum(axis=2).sum(axis=1)\n",
    "Snohomish_arr = Snohomish_arr.to_numpy()"
   ]
  },
  {
   "cell_type": "code",
   "execution_count": 10,
   "metadata": {},
   "outputs": [],
   "source": [
    "Nisqually_arr = fw_rivers.nisqually_river[:, 0, Nooksack[0]:Nooksack[1], Nooksack[2]:Nooksack[3]].sum(axis=2).sum(axis=1)\n",
    "Nisqually_arr = Nisqually_arr.to_numpy()"
   ]
  },
  {
   "cell_type": "code",
   "execution_count": 11,
   "metadata": {},
   "outputs": [],
   "source": [
    "Elwha_arr = fw_rivers.elwha_river[:, 0, Nooksack[0]:Nooksack[1], Nooksack[2]:Nooksack[3]].sum(axis=2).sum(axis=1)\n",
    "Elwha_arr = Elwha_arr.to_numpy()"
   ]
  },
  {
   "cell_type": "code",
   "execution_count": 12,
   "metadata": {},
   "outputs": [],
   "source": [
    "Cowichan_arr = fw_rivers.cowichan_river[:, 0, Nooksack[0]:Nooksack[1], Nooksack[2]:Nooksack[3]].sum(axis=2).sum(axis=1)\n",
    "Cowichan_arr = Cowichan_arr.to_numpy()"
   ]
  },
  {
   "cell_type": "code",
   "execution_count": 13,
   "metadata": {},
   "outputs": [],
   "source": [
    "Nanaimo_arr = fw_rivers.nanaimo_river[:, 0, Nooksack[0]:Nooksack[1], Nooksack[2]:Nooksack[3]].sum(axis=2).sum(axis=1)\n",
    "Nanaimo_arr = Nanaimo_arr.to_numpy()"
   ]
  },
  {
   "cell_type": "code",
   "execution_count": 14,
   "metadata": {},
   "outputs": [
    {
     "ename": "",
     "evalue": "",
     "output_type": "error",
     "traceback": [
      "\u001b[1;31mThe Kernel crashed while executing code in the the current cell or a previous cell. Please review the code in the cell(s) to identify a possible cause of the failure. Click <a href='https://aka.ms/vscodeJupyterKernelCrash'>here</a> for more info. View Jupyter <a href='command:jupyter.viewOutput'>log</a> for further details."
     ]
    }
   ],
   "source": [
    "Puntledge_arr = fw_rivers.puntledge_river[:, 0, Nooksack[0]:Nooksack[1], Nooksack[2]:Nooksack[3]].sum(axis=2).sum(axis=1)\n",
    "Puntledge_arr = Puntledge_arr.to_numpy()"
   ]
  },
  {
   "cell_type": "code",
   "execution_count": null,
   "metadata": {},
   "outputs": [],
   "source": [
    "Salmon_arr = fw_rivers.salmon_river[:, 0, Nooksack[0]:Nooksack[1], Nooksack[2]:Nooksack[3]].sum(axis=2).sum(axis=1)\n",
    "Salmon_arr = Salmon_arr.to_numpy()"
   ]
  },
  {
   "cell_type": "code",
   "execution_count": null,
   "metadata": {},
   "outputs": [],
   "source": [
    "Homathko_arr = fw_rivers.homathko_river[:, 0, Nooksack[0]:Nooksack[1], Nooksack[2]:Nooksack[3]].sum(axis=2).sum(axis=1)\n",
    "Homathko_arr = Homathko_arr.to_numpy()"
   ]
  },
  {
   "cell_type": "code",
   "execution_count": null,
   "metadata": {},
   "outputs": [],
   "source": [
    "Squamish_arr = fw_rivers.squamish_river[:, 0, Nooksack[0]:Nooksack[1], Nooksack[2]:Nooksack[3]].sum(axis=2).sum(axis=1)\n",
    "Squamish_arr = Squamish_arr.to_numpy()"
   ]
  }
 ],
 "metadata": {
  "kernelspec": {
   "display_name": "analysis-cassidy",
   "language": "python",
   "name": "python3"
  },
  "language_info": {
   "codemirror_mode": {
    "name": "ipython",
    "version": 3
   },
   "file_extension": ".py",
   "mimetype": "text/x-python",
   "name": "python",
   "nbconvert_exporter": "python",
   "pygments_lexer": "ipython3",
   "version": "3.10.6"
  }
 },
 "nbformat": 4,
 "nbformat_minor": 2
}
