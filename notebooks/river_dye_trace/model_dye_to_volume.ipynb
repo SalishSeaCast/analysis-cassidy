{
 "cells": [
  {
   "cell_type": "code",
   "execution_count": 4,
   "metadata": {},
   "outputs": [],
   "source": [
    "import numpy as np\n",
    "import xarray as xr\n",
    "import salishsea_tools.river_202108 as rivers\n",
    "import pandas as pd"
   ]
  },
  {
   "cell_type": "code",
   "execution_count": 5,
   "metadata": {},
   "outputs": [],
   "source": [
    "def make_ts_arr(jdepth, data, volume_dims, rho_inv):  # to do xarray multiplication, make sure rename the dims and pass into function\n",
    "    data_np = data[:, 0:jdepth].values\n",
    "    # data_np[:, :, 300:500, 1:30] = np.nanmean(data_np[:, :, 300:500, 30:59])  # I do not remember what this was for lmao??\n",
    "    river_arr = rho_inv * np.multiply(volume_dims[:, 0:jdepth], data_np) ## try again as the xarrays? and multiply by tmask so no need nansum (can acutally do that to volume)\n",
    "    river_sum = np.nansum(np.nansum(np.nansum(river_arr, axis=3), axis=2), axis=1)\n",
    "    return river_sum"
   ]
  },
  {
   "cell_type": "code",
   "execution_count": 6,
   "metadata": {},
   "outputs": [],
   "source": [
    "def make_3d_arr(jdepth, data, volume_dims, rho_inv):\n",
    "    data_np = data[:, 0:jdepth].values\n",
    "    # data_np[:, :, 300:500, 1:30] = np.nanmean(data_np[:, :, 300:500, 30:59])  # I do not remember what this was for lmao??\n",
    "    river_arr = rho_inv * np.multiply(volume_dims[:, 0:jdepth], data_np) ## try again as the xarrays? and multiply by tmask so no need nansum (can acutally do that to volume)\n",
    "    return river_arr"
   ]
  },
  {
   "cell_type": "code",
   "execution_count": 7,
   "metadata": {},
   "outputs": [],
   "source": [
    "def custom_arange(start, stop, step):\n",
    "    num_steps = int(np.ceil((stop - start) / step))\n",
    "    end_value = np.array([stop])\n",
    "    ranges = np.arange(start, num_steps*step, step)\n",
    "    return np.concatenate((ranges, end_value))"
   ]
  },
  {
   "cell_type": "code",
   "execution_count": 8,
   "metadata": {},
   "outputs": [],
   "source": [
    "def river_ts_array(river, start_date, end_date):\n",
    "    variable = river + '_river'\n",
    "\n",
    "    ds = xr.open_dataset('/ocean/cdonaldson/research_runs/hindcast_auto/extractions/SalishSeaCast_river_trace_day_avg_one_{}_all_{}_{}.nc'.format(river, start_date, end_date))\n",
    "\n",
    "    dep_idx = 40\n",
    "    step_len = 50\n",
    "    start = 0 \n",
    "    data = ds[variable]\n",
    "    time_idxs = custom_arange(start, len(data), step_len)\n",
    "    river_arr = np.zeros(len(data))\n",
    "\n",
    "    for i in np.arange(0, len(time_idxs)-1):\n",
    "        print('{},{}'.format(time_idxs[i], time_idxs[i+1]))\n",
    "        river_arr[time_idxs[i]:time_idxs[i+1]] = make_ts_arr(dep_idx, ds[variable][time_idxs[i]:time_idxs[i+1]], volume_dims, rho_inv)\n",
    "\n",
    "    filename = '1d_hindcast_volume_{}_s2012_{}_dep_0_{}.csv'.format(variable, len(data), dep_idx)  # change this for next iterations\n",
    "    pd.DataFrame(river_arr).to_csv('dye_to_vol/' + filename)\n",
    "    print(filename)"
   ]
  },
  {
   "cell_type": "code",
   "execution_count": 47,
   "metadata": {},
   "outputs": [],
   "source": [
    "def river_3d_array(river, start_date, end_date):\n",
    "    if (river != 'other'):\n",
    "        variable = river + '_river'\n",
    "    else:\n",
    "        variable = river + '_rivers'\n",
    "\n",
    "    ds = xr.open_dataset('/ocean/cdonaldson/research_runs/hindcast_auto/extractions/SalishSeaCast_river_trace_day_avg_allR_00_40_{}_{}.nc'.format(start_date, end_date))\n",
    "\n",
    "    dep_idx = 40\n",
    "    step_len = 50\n",
    "    start = 0\n",
    "    data = ds[variable]\n",
    "    time_idxs = custom_arange(start, len(data), step_len)\n",
    "    river_arr = np.zeros(ds[variable][0].shape)\n",
    "\n",
    "    for i in np.arange(0, len(time_idxs)-1):\n",
    "        print('{},{}'.format(time_idxs[i], time_idxs[i+1]))\n",
    "        river_arr[time_idxs[i]:time_idxs[i+1]] = make_3d_arr(dep_idx, ds[variable][time_idxs[i]:time_idxs[i+1]], volume, rho_inv)\n",
    "\n",
    "    filename = '/ocean/cdonaldson/MOAD/analysis-cassidy/notebooks/river_dye_trace/dye_to_vol/3d_hindcast_vol/3d_hindcast_volume_dep_0_{}_{}_{}_{}.csv'.format(dep_idx, start_date, end_date, variable)  # change this for next iterations\n",
    "    pd.DataFrame(river_arr).to_csv(filename)\n",
    "    print(filename)"
   ]
  },
  {
   "cell_type": "code",
   "execution_count": 11,
   "metadata": {},
   "outputs": [],
   "source": [
    "mesh = xr.open_dataset('/home/sallen/MEOPAR/grid/mesh_mask202108.nc')\n",
    "# the mask is 1 where there is water, we want the opposite.  The meshmask has an extra dimension, hence the [0]\n",
    "tmask = 1 - mesh.tmask[0]"
   ]
  },
  {
   "cell_type": "code",
   "execution_count": 12,
   "metadata": {},
   "outputs": [],
   "source": [
    "volume = (1-tmask) * mesh.e3t_0[0] * mesh.e1t[0] * mesh.e2t[0]\n",
    "volume_dims = np.array([volume.to_numpy(), volume.to_numpy()])[0:1] ## do this once, pass volume dims into it\n",
    "\n",
    "rho_inv = (1/1026)"
   ]
  },
  {
   "cell_type": "code",
   "execution_count": 27,
   "metadata": {},
   "outputs": [],
   "source": [
    "ds = xr.open_dataset('/ocean/cdonaldson/research_runs/hindcast_auto/extractions/SalishSeaCast_river_trace_day_avg_allR_00_40_{}_{}.nc'.format(20210101, 20211231))\n",
    "ds_test = ds.isel(time=slice(0,5))"
   ]
  },
  {
   "cell_type": "code",
   "execution_count": null,
   "metadata": {},
   "outputs": [],
   "source": []
  },
  {
   "cell_type": "code",
   "execution_count": 55,
   "metadata": {},
   "outputs": [
    {
     "ename": "MemoryError",
     "evalue": "Unable to allocate 38.9 GiB for an array with shape (365, 40, 898, 398) and data type float64",
     "output_type": "error",
     "traceback": [
      "\u001b[0;31m---------------------------------------------------------------------------\u001b[0m",
      "\u001b[0;31mMemoryError\u001b[0m                               Traceback (most recent call last)",
      "Cell \u001b[0;32mIn [55], line 7\u001b[0m\n\u001b[1;32m      5\u001b[0m step_len \u001b[38;5;241m=\u001b[39m \u001b[38;5;241m50\u001b[39m\n\u001b[1;32m      6\u001b[0m time_idxs \u001b[38;5;241m=\u001b[39m custom_arange(start, \u001b[38;5;28mlen\u001b[39m(data), step_len)\n\u001b[0;32m----> 7\u001b[0m river_arr \u001b[38;5;241m=\u001b[39m \u001b[43mnp\u001b[49m\u001b[38;5;241;43m.\u001b[39;49m\u001b[43mzeros\u001b[49m\u001b[43m(\u001b[49m\u001b[43mds\u001b[49m\u001b[43m[\u001b[49m\u001b[43mvariable\u001b[49m\u001b[43m]\u001b[49m\u001b[38;5;241;43m.\u001b[39;49m\u001b[43mshape\u001b[49m\u001b[43m)\u001b[49m\n\u001b[1;32m      8\u001b[0m i \u001b[38;5;241m=\u001b[39m \u001b[38;5;241m0\u001b[39m\n\u001b[1;32m      9\u001b[0m river_arr[time_idxs[i]:time_idxs[i\u001b[38;5;241m+\u001b[39m\u001b[38;5;241m1\u001b[39m]] \u001b[38;5;241m=\u001b[39m make_3d_arr(dep_idx, ds[variable][time_idxs[i]:time_idxs[i\u001b[38;5;241m+\u001b[39m\u001b[38;5;241m1\u001b[39m]], volume_dims, rho_inv)\n",
      "\u001b[0;31mMemoryError\u001b[0m: Unable to allocate 38.9 GiB for an array with shape (365, 40, 898, 398) and data type float64"
     ]
    }
   ],
   "source": [
    "dep_idx = 40\n",
    "variable = 'nooksack_river'\n",
    "start = 0\n",
    "data = ds[variable]\n",
    "step_len = 50\n",
    "time_idxs = custom_arange(start, len(data), step_len)\n",
    "river_arr = np.zeros(ds[variable][0:step_len].shape)\n",
    "i = 0\n",
    "river_arr[time_idxs[i]:time_idxs[i+1]] = make_3d_arr(dep_idx, ds[variable][time_idxs[i]:time_idxs[i+1]], volume_dims, rho_inv)"
   ]
  },
  {
   "cell_type": "code",
   "execution_count": 57,
   "metadata": {},
   "outputs": [
    {
     "data": {
      "text/plain": [
       "(50, 40, 898, 398)"
      ]
     },
     "execution_count": 57,
     "metadata": {},
     "output_type": "execute_result"
    }
   ],
   "source": [
    "ds[variable][0:step_len].shape"
   ]
  },
  {
   "cell_type": "code",
   "execution_count": 37,
   "metadata": {},
   "outputs": [],
   "source": [
    "# river = 'fraser'\n",
    "# variable = river + '_river'\n",
    "# ds = xr.open_dataset('/ocean/cdonaldson/research_runs/hindcast_auto/extractions/SalishSeaCast_river_trace_day_avg_Fraser_all_20120101_20160101.nc')\n",
    "#ds = xr.open_dataset('/ocean/cdonaldson/research_runs/hindcast_auto/extractions/SalishSeaCast_river_trace_day_avg_one_{}_all_20120101_20160101.nc'.format(river))  # instead of one ds here, can do ds list and \"read\" it in at the beginning of each loop because it doesn't store in mem\n",
    "# actually maybe do the concat after... thereby only doing all of the calculation once? it will be produced incrementally"
   ]
  },
  {
   "cell_type": "code",
   "execution_count": 38,
   "metadata": {},
   "outputs": [],
   "source": [
    "# dep_idx = 40\n",
    "# data = ds[variable]\n",
    "# step_len = 50\n",
    "# start = 0\n",
    "# time_idxs = custom_arange(start, len(data), step_len)\n",
    "# river_arr = np.zeros(len(data))\n",
    "\n",
    "# for i in np.arange(0, len(time_idxs)-1):\n",
    "#     print('{},{}'.format(time_idxs[i], time_idxs[i+1]))\n",
    "#     river_arr[time_idxs[i]:time_idxs[i+1]] = make_ts_arr(dep_idx, ds[variable][time_idxs[i]:time_idxs[i+1]], volume_dims, rho_inv)"
   ]
  },
  {
   "cell_type": "code",
   "execution_count": 39,
   "metadata": {},
   "outputs": [],
   "source": [
    "# filename = '1d_hindcast_volume_{}_s2012_{}_dep_0_{}.csv'.format(variable, len(data), dep_idx)\n",
    "# pd.DataFrame(river_arr).to_csv('dye_to_vol/' + filename)\n",
    "# print(filename)"
   ]
  },
  {
   "cell_type": "code",
   "execution_count": 44,
   "metadata": {},
   "outputs": [
    {
     "name": "stdout",
     "output_type": "stream",
     "text": [
      "0,50\n"
     ]
    },
    {
     "ename": "ValueError",
     "evalue": "could not broadcast input array from shape (50,40,898,398) into shape (40,898,398)",
     "output_type": "error",
     "traceback": [
      "\u001b[0;31m---------------------------------------------------------------------------\u001b[0m",
      "\u001b[0;31mValueError\u001b[0m                                Traceback (most recent call last)",
      "Cell \u001b[0;32mIn [44], line 1\u001b[0m\n\u001b[0;32m----> 1\u001b[0m \u001b[43mriver_3d_array\u001b[49m\u001b[43m(\u001b[49m\u001b[38;5;124;43m'\u001b[39;49m\u001b[38;5;124;43mnooksack\u001b[39;49m\u001b[38;5;124;43m'\u001b[39;49m\u001b[43m,\u001b[49m\u001b[43m \u001b[49m\u001b[38;5;124;43m'\u001b[39;49m\u001b[38;5;124;43m20190101\u001b[39;49m\u001b[38;5;124;43m'\u001b[39;49m\u001b[43m,\u001b[49m\u001b[43m \u001b[49m\u001b[38;5;124;43m'\u001b[39;49m\u001b[38;5;124;43m20191231\u001b[39;49m\u001b[38;5;124;43m'\u001b[39;49m\u001b[43m)\u001b[49m\n",
      "Cell \u001b[0;32mIn [43], line 18\u001b[0m, in \u001b[0;36mriver_3d_array\u001b[0;34m(river, start_date, end_date)\u001b[0m\n\u001b[1;32m     16\u001b[0m \u001b[38;5;28;01mfor\u001b[39;00m i \u001b[38;5;129;01min\u001b[39;00m np\u001b[38;5;241m.\u001b[39marange(\u001b[38;5;241m0\u001b[39m, \u001b[38;5;28mlen\u001b[39m(time_idxs)\u001b[38;5;241m-\u001b[39m\u001b[38;5;241m1\u001b[39m):\n\u001b[1;32m     17\u001b[0m     \u001b[38;5;28mprint\u001b[39m(\u001b[38;5;124m'\u001b[39m\u001b[38;5;132;01m{}\u001b[39;00m\u001b[38;5;124m,\u001b[39m\u001b[38;5;132;01m{}\u001b[39;00m\u001b[38;5;124m'\u001b[39m\u001b[38;5;241m.\u001b[39mformat(time_idxs[i], time_idxs[i\u001b[38;5;241m+\u001b[39m\u001b[38;5;241m1\u001b[39m]))\n\u001b[0;32m---> 18\u001b[0m     \u001b[43mriver_arr\u001b[49m\u001b[43m[\u001b[49m\u001b[43mtime_idxs\u001b[49m\u001b[43m[\u001b[49m\u001b[43mi\u001b[49m\u001b[43m]\u001b[49m\u001b[43m:\u001b[49m\u001b[43mtime_idxs\u001b[49m\u001b[43m[\u001b[49m\u001b[43mi\u001b[49m\u001b[38;5;241;43m+\u001b[39;49m\u001b[38;5;241;43m1\u001b[39;49m\u001b[43m]\u001b[49m\u001b[43m]\u001b[49m \u001b[38;5;241m=\u001b[39m make_3d_arr(dep_idx, ds[variable][time_idxs[i]:time_idxs[i\u001b[38;5;241m+\u001b[39m\u001b[38;5;241m1\u001b[39m]], volume_dims, rho_inv)\n\u001b[1;32m     20\u001b[0m filename \u001b[38;5;241m=\u001b[39m \u001b[38;5;124m'\u001b[39m\u001b[38;5;124m/ocean/cdonaldson/MOAD/analysis-cassidy/notebooks/river_dye_trace/dye_to_vol/3d_hindcast_vol/3d_hindcast_volume_dep_0_\u001b[39m\u001b[38;5;132;01m{}\u001b[39;00m\u001b[38;5;124m_\u001b[39m\u001b[38;5;132;01m{}\u001b[39;00m\u001b[38;5;124m_\u001b[39m\u001b[38;5;132;01m{}\u001b[39;00m\u001b[38;5;124m_\u001b[39m\u001b[38;5;132;01m{}\u001b[39;00m\u001b[38;5;124m.csv\u001b[39m\u001b[38;5;124m'\u001b[39m\u001b[38;5;241m.\u001b[39mformat(dep_idx, start_date, end_date, variable)  \u001b[38;5;66;03m# change this for next iterations\u001b[39;00m\n\u001b[1;32m     21\u001b[0m pd\u001b[38;5;241m.\u001b[39mDataFrame(river_arr)\u001b[38;5;241m.\u001b[39mto_csv(filename)\n",
      "\u001b[0;31mValueError\u001b[0m: could not broadcast input array from shape (50,40,898,398) into shape (40,898,398)"
     ]
    }
   ],
   "source": [
    "river_3d_array('nooksack', '20190101', '20191231')"
   ]
  },
  {
   "cell_type": "code",
   "execution_count": null,
   "metadata": {},
   "outputs": [],
   "source": [
    "## add something down here that brings together all the previous files if need be"
   ]
  }
 ],
 "metadata": {
  "kernelspec": {
   "display_name": "analysis-cassidy",
   "language": "python",
   "name": "python3"
  },
  "language_info": {
   "codemirror_mode": {
    "name": "ipython",
    "version": 3
   },
   "file_extension": ".py",
   "mimetype": "text/x-python",
   "name": "python",
   "nbconvert_exporter": "python",
   "pygments_lexer": "ipython3",
   "version": "3.10.6"
  }
 },
 "nbformat": 4,
 "nbformat_minor": 2
}
