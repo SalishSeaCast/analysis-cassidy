{
 "cells": [
  {
   "cell_type": "code",
   "execution_count": 1,
   "metadata": {},
   "outputs": [],
   "source": [
    "import numpy as np\n",
    "import xarray as xr\n",
    "import salishsea_tools.river_202108 as rivers\n",
    "import pandas as pd"
   ]
  },
  {
   "cell_type": "code",
   "execution_count": 2,
   "metadata": {},
   "outputs": [],
   "source": [
    "def make_ts_arr(jdepth, data, volume_dims, rho_inv):  # to do xarray multiplication, make sure rename the dims and pass into function\n",
    "    # rho = 1026  ## do 1/rho and pass it into it\n",
    "    # volume_dims = np.array([volume.to_numpy(), volume.to_numpy()])[0:1] ## do this once, pass volume dims into it\n",
    "    data_np = data[:, 0:jdepth].values\n",
    "    river_arr = rho_inv * np.multiply(volume_dims[:, 0:jdepth], data_np) ## try again as the xarrays? and multiply by tmask so no need nansum (can acutally do that to volume)\n",
    "    river_sum = np.nansum(np.nansum(np.nansum(river_arr, axis=3), axis=2), axis=1)\n",
    "    return river_sum"
   ]
  },
  {
   "cell_type": "code",
   "execution_count": 3,
   "metadata": {},
   "outputs": [],
   "source": [
    "def custom_arange(start, stop, step):\n",
    "    num_steps = int(np.ceil((stop - start) / step))\n",
    "    end_value = np.array([stop])\n",
    "    ranges = np.arange(start, num_steps*step, step)\n",
    "    return np.concatenate((ranges, end_value))"
   ]
  },
  {
   "cell_type": "code",
   "execution_count": 10,
   "metadata": {},
   "outputs": [],
   "source": [
    "ds = xr.open_dataset('/ocean/cdonaldson/research_runs/long_dye_tracers/extractions/SalishSeaCast_river_trace_day_avg_Fraser_all_20170101_20191203.nc')\n",
    "mesh = xr.open_dataset('/home/sallen/MEOPAR/grid/mesh_mask202108.nc')\n",
    "# the mask is 1 where there is water, we want the opposite.  The meshmask has an extra dimension, hence the [0]\n",
    "tmask = 1 - mesh.tmask[0]"
   ]
  },
  {
   "cell_type": "code",
   "execution_count": 11,
   "metadata": {},
   "outputs": [],
   "source": [
    "volume = mesh.e3t_0[0] * mesh.e1t[0] * mesh.e2t[0] * (1-tmask[0])\n",
    "volume_dims = np.array([volume.to_numpy(), volume.to_numpy()])[0:1] ## do this once, pass volume dims into it\n",
    "\n",
    "rho_inv = (1/1026)"
   ]
  },
  {
   "cell_type": "code",
   "execution_count": 12,
   "metadata": {},
   "outputs": [
    {
     "name": "stdout",
     "output_type": "stream",
     "text": [
      "0,50\n",
      "50,100\n",
      "100,150\n",
      "150,200\n",
      "200,250\n",
      "250,300\n",
      "300,350\n",
      "350,400\n",
      "400,450\n",
      "450,500\n",
      "500,550\n",
      "550,600\n",
      "600,650\n",
      "650,700\n",
      "700,750\n",
      "750,800\n",
      "800,850\n",
      "850,900\n",
      "900,950\n",
      "950,1000\n",
      "1000,1050\n",
      "1050,1067\n"
     ]
    }
   ],
   "source": [
    "dep_idx = 40\n",
    "data = ds.fraser_river\n",
    "step_len = 50\n",
    "start = 0\n",
    "time_idxs = custom_arange(start, len(data), step_len)\n",
    "river_arr = np.zeros(len(data))\n",
    "\n",
    "for i in np.arange(0, len(time_idxs)-1):\n",
    "    print('{},{}'.format(time_idxs[i], time_idxs[i+1]))\n",
    "    river_arr[time_idxs[i]:time_idxs[i+1]] = make_ts_arr(dep_idx, ds.fraser_river[time_idxs[i]:time_idxs[i+1]], volume_dims, rho_inv)"
   ]
  },
  {
   "cell_type": "code",
   "execution_count": 13,
   "metadata": {},
   "outputs": [
    {
     "name": "stdout",
     "output_type": "stream",
     "text": [
      "1d_volume_fraser_river_s2017_1067_dep_0_40.csv\n"
     ]
    }
   ],
   "source": [
    "variable = 'fraser_river'\n",
    "\n",
    "filename = '1d_volume_{}_s2017_{}_dep_0_{}.csv'.format(variable, len(data), dep_idx)\n",
    "pd.DataFrame(river_arr).to_csv('dye_to_vol/' + filename)\n",
    "print(filename)\n"
   ]
  }
 ],
 "metadata": {
  "kernelspec": {
   "display_name": "analysis-cassidy",
   "language": "python",
   "name": "python3"
  },
  "language_info": {
   "codemirror_mode": {
    "name": "ipython",
    "version": 3
   },
   "file_extension": ".py",
   "mimetype": "text/x-python",
   "name": "python",
   "nbconvert_exporter": "python",
   "pygments_lexer": "ipython3",
   "version": "3.10.6"
  }
 },
 "nbformat": 4,
 "nbformat_minor": 2
}
