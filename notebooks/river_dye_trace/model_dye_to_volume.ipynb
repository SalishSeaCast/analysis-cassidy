{
 "cells": [
  {
   "cell_type": "code",
   "execution_count": 14,
   "metadata": {},
   "outputs": [],
   "source": [
    "import numpy as np\n",
    "import xarray as xr\n",
    "import salishsea_tools.river_202108 as rivers\n",
    "import pandas as pd"
   ]
  },
  {
   "cell_type": "code",
   "execution_count": 15,
   "metadata": {},
   "outputs": [],
   "source": [
    "def make_ts_arr(jdepth, data, volume_dims, rho_inv):  # to do xarray multiplication, make sure rename the dims and pass into function\n",
    "    data_np = data[:, 0:jdepth].values\n",
    "    data_np[:, :, 300:500, 1:30] = np.nanmean(data_np[:, :, 300:500, 30:59])\n",
    "    river_arr = rho_inv * np.multiply(volume_dims[:, 0:jdepth], data_np) ## try again as the xarrays? and multiply by tmask so no need nansum (can acutally do that to volume)\n",
    "    river_sum = np.nansum(np.nansum(np.nansum(river_arr, axis=3), axis=2), axis=1)\n",
    "    return river_sum"
   ]
  },
  {
   "cell_type": "code",
   "execution_count": 16,
   "metadata": {},
   "outputs": [],
   "source": [
    "def custom_arange(start, stop, step):\n",
    "    num_steps = int(np.ceil((stop - start) / step))\n",
    "    end_value = np.array([stop])\n",
    "    ranges = np.arange(start, num_steps*step, step)\n",
    "    return np.concatenate((ranges, end_value))"
   ]
  },
  {
   "cell_type": "code",
   "execution_count": 57,
   "metadata": {},
   "outputs": [],
   "source": [
    "def river_ts_array(river, start_date, end_date):\n",
    "    variable = river + '_river'\n",
    "\n",
    "    ds = xr.open_dataset('/ocean/cdonaldson/research_runs/hindcast_auto/extractions/SalishSeaCast_river_trace_day_avg_one_{}_all_{}_{}.nc'.format(river, start_date, end_date))\n",
    "\n",
    "    dep_idx = 40\n",
    "    step_len = 50\n",
    "    start = 0 \n",
    "    data = ds[variable]\n",
    "    time_idxs = custom_arange(start, len(data), step_len)\n",
    "    river_arr = np.zeros(len(data))\n",
    "\n",
    "    for i in np.arange(0, len(time_idxs)-1):\n",
    "        print('{},{}'.format(time_idxs[i], time_idxs[i+1]))\n",
    "        river_arr[time_idxs[i]:time_idxs[i+1]] = make_ts_arr(dep_idx, ds[variable][time_idxs[i]:time_idxs[i+1]], volume_dims, rho_inv)\n",
    "\n",
    "    filename = '1d_hindcast_volume_{}_s2012_{}_dep_0_{}.csv'.format(variable, len(data), dep_idx)  # change this for next iterations\n",
    "    pd.DataFrame(river_arr).to_csv('dye_to_vol/' + filename)\n",
    "    print(filename)"
   ]
  },
  {
   "cell_type": "code",
   "execution_count": 47,
   "metadata": {},
   "outputs": [],
   "source": [
    "mesh = xr.open_dataset('/home/sallen/MEOPAR/grid/mesh_mask202108.nc')\n",
    "# the mask is 1 where there is water, we want the opposite.  The meshmask has an extra dimension, hence the [0]\n",
    "tmask = 1 - mesh.tmask[0]"
   ]
  },
  {
   "cell_type": "code",
   "execution_count": 48,
   "metadata": {},
   "outputs": [],
   "source": [
    "volume = (1-tmask) * mesh.e3t_0[0] * mesh.e1t[0] * mesh.e2t[0]\n",
    "volume_dims = np.array([volume.to_numpy(), volume.to_numpy()])[0:1] ## do this once, pass volume dims into it\n",
    "\n",
    "rho_inv = (1/1026)"
   ]
  },
  {
   "cell_type": "code",
   "execution_count": 52,
   "metadata": {},
   "outputs": [],
   "source": [
    "river = 'nanaimo'\n",
    "variable = river + '_river'\n",
    "# ds = xr.open_dataset('/ocean/cdonaldson/research_runs/hindcast_auto/extractions/SalishSeaCast_river_trace_day_avg_Fraser_all_20120101_20140101.nc')\n",
    "ds = xr.open_dataset('/ocean/cdonaldson/research_runs/hindcast_auto/extractions/SalishSeaCast_river_trace_day_avg_one_{}_all_20120101_20160101.nc'.format(river))  # instead of one ds here, can do ds list and \"read\" it in at the beginning of each loop because it doesn't store in mem\n",
    "# actually maybe do the concat after... thereby only doing all of the calculation once? it will be produced incrementally"
   ]
  },
  {
   "cell_type": "code",
   "execution_count": 53,
   "metadata": {},
   "outputs": [
    {
     "name": "stdout",
     "output_type": "stream",
     "text": [
      "0,50\n",
      "50,100\n",
      "100,150\n",
      "150,200\n",
      "200,250\n",
      "250,300\n",
      "300,350\n",
      "350,400\n",
      "400,450\n",
      "450,500\n",
      "500,550\n",
      "550,600\n",
      "600,650\n",
      "650,700\n",
      "700,750\n",
      "750,800\n",
      "800,850\n",
      "850,900\n",
      "900,950\n",
      "950,1000\n",
      "1000,1050\n",
      "1050,1100\n",
      "1100,1150\n",
      "1150,1200\n",
      "1200,1250\n",
      "1250,1300\n",
      "1300,1350\n",
      "1350,1400\n",
      "1400,1450\n",
      "1450,1462\n"
     ]
    }
   ],
   "source": [
    "dep_idx = 40\n",
    "data = ds[variable]\n",
    "step_len = 50\n",
    "start = 0\n",
    "time_idxs = custom_arange(start, len(data), step_len)\n",
    "river_arr = np.zeros(len(data))\n",
    "\n",
    "for i in np.arange(0, len(time_idxs)-1):\n",
    "    print('{},{}'.format(time_idxs[i], time_idxs[i+1]))\n",
    "    river_arr[time_idxs[i]:time_idxs[i+1]] = make_ts_arr(dep_idx, ds[variable][time_idxs[i]:time_idxs[i+1]], volume_dims, rho_inv)"
   ]
  },
  {
   "cell_type": "code",
   "execution_count": 54,
   "metadata": {},
   "outputs": [
    {
     "name": "stdout",
     "output_type": "stream",
     "text": [
      "1d_hindcast_volume_nanaimo_river_s2012_1462_dep_0_40.csv\n"
     ]
    }
   ],
   "source": [
    "filename = '1d_hindcast_volume_{}_s2012_{}_dep_0_{}.csv'.format(variable, len(data), dep_idx)\n",
    "pd.DataFrame(river_arr).to_csv('dye_to_vol/' + filename)\n",
    "print(filename)"
   ]
  },
  {
   "cell_type": "code",
   "execution_count": 58,
   "metadata": {},
   "outputs": [
    {
     "name": "stdout",
     "output_type": "stream",
     "text": [
      "0,50\n",
      "50,100\n",
      "100,150\n",
      "150,200\n",
      "200,250\n",
      "250,300\n",
      "300,350\n",
      "350,400\n",
      "400,450\n",
      "450,500\n",
      "500,550\n",
      "550,600\n",
      "600,650\n",
      "650,700\n",
      "700,750\n",
      "750,800\n",
      "800,850\n",
      "850,900\n",
      "900,950\n",
      "950,1000\n",
      "1000,1050\n",
      "1050,1100\n",
      "1100,1150\n",
      "1150,1200\n",
      "1200,1250\n",
      "1250,1300\n",
      "1300,1350\n",
      "1350,1400\n",
      "1400,1450\n",
      "1450,1462\n",
      "1d_hindcast_volume_puntledge_river_s2012_1462_dep_0_40.csv\n"
     ]
    }
   ],
   "source": [
    "river_ts_array('puntledge', '20120101', '20160101')"
   ]
  },
  {
   "cell_type": "code",
   "execution_count": 59,
   "metadata": {},
   "outputs": [
    {
     "name": "stdout",
     "output_type": "stream",
     "text": [
      "0,50\n"
     ]
    }
   ],
   "source": [
    "river_ts_array('salmon', '20120101', '20160101')"
   ]
  },
  {
   "cell_type": "code",
   "execution_count": null,
   "metadata": {},
   "outputs": [],
   "source": [
    "river_ts_array('homathko', '20120101', '20160101')"
   ]
  },
  {
   "cell_type": "code",
   "execution_count": null,
   "metadata": {},
   "outputs": [],
   "source": [
    "river_ts_array('squamish', '20120101', '20160101')"
   ]
  },
  {
   "cell_type": "code",
   "execution_count": null,
   "metadata": {},
   "outputs": [],
   "source": [
    "river_ts_array('fraser', '20120101', '20160101')"
   ]
  },
  {
   "cell_type": "code",
   "execution_count": null,
   "metadata": {},
   "outputs": [],
   "source": [
    "## add something down here that brings together all the previous files if need be"
   ]
  }
 ],
 "metadata": {
  "kernelspec": {
   "display_name": "analysis-cassidy",
   "language": "python",
   "name": "python3"
  },
  "language_info": {
   "codemirror_mode": {
    "name": "ipython",
    "version": 3
   },
   "file_extension": ".py",
   "mimetype": "text/x-python",
   "name": "python",
   "nbconvert_exporter": "python",
   "pygments_lexer": "ipython3",
   "version": "3.10.6"
  }
 },
 "nbformat": 4,
 "nbformat_minor": 2
}
