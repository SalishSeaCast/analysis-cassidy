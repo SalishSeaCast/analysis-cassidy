{
 "cells": [
  {
   "cell_type": "code",
   "execution_count": 15,
   "metadata": {},
   "outputs": [],
   "source": [
    "import numpy as np\n",
    "import xarray as xr\n",
    "import matplotlib.pyplot as plt\n",
    "from salishsea_tools import viz_tools"
   ]
  },
  {
   "cell_type": "code",
   "execution_count": 16,
   "metadata": {},
   "outputs": [],
   "source": [
    "phys_mon_2023 = xr.open_dataset('/ocean/cdonaldson/stair_extractions/SalishSeaCast_mon_avg_phys_00_05_20230101_20231231.nc').isel(depth=4)\n",
    "phys_mon_2022 = xr.open_dataset('/ocean/cdonaldson/stair_extractions/SalishSeaCast_mon_avg_phys_00_05_20220101_20221231.nc').isel(depth=4)\n",
    "phys_mon_2021 = xr.open_dataset('/ocean/cdonaldson/stair_extractions/SalishSeaCast_mon_avg_phys_00_05_20210101_20211231.nc').isel(depth=4)\n",
    "phys_mon_2020 = xr.open_dataset('/ocean/cdonaldson/stair_extractions/SalishSeaCast_mon_avg_phys_00_05_20200101_20201231.nc').isel(depth=4)\n",
    "phys_mon_2019 = xr.open_dataset('/ocean/cdonaldson/stair_extractions/SalishSeaCast_mon_avg_phys_00_05_20190101_20191231.nc').isel(depth=4)\n",
    "phys_mon_2018 = xr.open_dataset('/ocean/cdonaldson/stair_extractions/SalishSeaCast_mon_avg_phys_00_05_20180101_20181231.nc').isel(depth=4)\n",
    "phys_mon_2017 = xr.open_dataset('/ocean/cdonaldson/stair_extractions/SalishSeaCast_mon_avg_phys_00_05_20170101_20171231.nc').isel(depth=4)\n",
    "phys_mon_2016 = xr.open_dataset('/ocean/cdonaldson/stair_extractions/SalishSeaCast_mon_avg_phys_00_05_20160101_20161231.nc').isel(depth=4)"
   ]
  },
  {
   "cell_type": "code",
   "execution_count": 17,
   "metadata": {},
   "outputs": [],
   "source": [
    "phys_mon = xr.concat([phys_mon_2023, phys_mon_2022, phys_mon_2021, phys_mon_2020, phys_mon_2019, phys_mon_2018, phys_mon_2017, phys_mon_2016], dim='time')"
   ]
  },
  {
   "cell_type": "code",
   "execution_count": 18,
   "metadata": {},
   "outputs": [],
   "source": [
    "phys_clim = phys_mon.groupby(\"time.month\").mean(\"time\")"
   ]
  },
  {
   "cell_type": "code",
   "execution_count": 22,
   "metadata": {},
   "outputs": [],
   "source": [
    "phys_clim.to_netcdf('phys_clim_2016_2023.nc')"
   ]
  },
  {
   "cell_type": "code",
   "execution_count": 19,
   "metadata": {},
   "outputs": [],
   "source": [
    "chem_mon_2023 = xr.open_dataset('/ocean/cdonaldson/stair_extractions/SalishSeaCast_mon_avg_chem_00_05_20230101_20231231.nc').isel(depth=4)\n",
    "chem_mon_2022 = xr.open_dataset('/ocean/cdonaldson/stair_extractions/SalishSeaCast_mon_avg_chem_00_05_20220101_20221231.nc').isel(depth=4)\n",
    "chem_mon_2021 = xr.open_dataset('/ocean/cdonaldson/stair_extractions/SalishSeaCast_mon_avg_chem_00_05_20210101_20211231.nc').isel(depth=4)\n",
    "chem_mon_2020 = xr.open_dataset('/ocean/cdonaldson/stair_extractions/SalishSeaCast_mon_avg_chem_00_05_20200101_20201231.nc').isel(depth=4)\n",
    "chem_mon_2019 = xr.open_dataset('/ocean/cdonaldson/stair_extractions/SalishSeaCast_mon_avg_chem_00_05_20190101_20191231.nc').isel(depth=4)\n",
    "chem_mon_2018 = xr.open_dataset('/ocean/cdonaldson/stair_extractions/SalishSeaCast_mon_avg_chem_00_05_20180101_20181231.nc').isel(depth=4)\n",
    "chem_mon_2017 = xr.open_dataset('/ocean/cdonaldson/stair_extractions/SalishSeaCast_mon_avg_chem_00_05_20170101_20171231.nc').isel(depth=4)\n",
    "chem_mon_2016 = xr.open_dataset('/ocean/cdonaldson/stair_extractions/SalishSeaCast_mon_avg_chem_00_05_20160101_20161231.nc').isel(depth=4)"
   ]
  },
  {
   "cell_type": "code",
   "execution_count": 20,
   "metadata": {},
   "outputs": [],
   "source": [
    "chem_mon = xr.concat([chem_mon_2023, chem_mon_2022, chem_mon_2021, chem_mon_2020, chem_mon_2019, chem_mon_2018, chem_mon_2017, chem_mon_2016], dim='time')"
   ]
  },
  {
   "cell_type": "code",
   "execution_count": 21,
   "metadata": {},
   "outputs": [],
   "source": [
    "chem_clim = chem_mon.groupby(\"time.month\").mean(\"time\")"
   ]
  },
  {
   "cell_type": "code",
   "execution_count": 23,
   "metadata": {},
   "outputs": [],
   "source": [
    "chem_clim.to_netcdf('chem_clim_2016_2023.nc')"
   ]
  }
 ],
 "metadata": {
  "kernelspec": {
   "display_name": "analysis-cassidy",
   "language": "python",
   "name": "python3"
  },
  "language_info": {
   "codemirror_mode": {
    "name": "ipython",
    "version": 3
   },
   "file_extension": ".py",
   "mimetype": "text/x-python",
   "name": "python",
   "nbconvert_exporter": "python",
   "pygments_lexer": "ipython3",
   "version": "3.10.6"
  }
 },
 "nbformat": 4,
 "nbformat_minor": 2
}
