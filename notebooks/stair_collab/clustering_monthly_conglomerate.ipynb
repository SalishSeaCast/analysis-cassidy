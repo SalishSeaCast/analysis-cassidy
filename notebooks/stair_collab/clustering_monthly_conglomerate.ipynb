{
 "cells": [
  {
   "cell_type": "code",
   "execution_count": 1,
   "metadata": {},
   "outputs": [],
   "source": [
    "import numpy as np\n",
    "import xarray as xr"
   ]
  },
  {
   "cell_type": "code",
   "execution_count": 4,
   "metadata": {},
   "outputs": [],
   "source": [
    "January_clust = xr.open_dataset('clusters_00_January.nc')\n",
    "February_clust = xr.open_dataset('clusters_01_February.nc')\n",
    "March_clust = xr.open_dataset('clusters_02_March.nc')\n",
    "April_clust = xr.open_dataset('clusters_03_April.nc')\n",
    "May_clust = xr.open_dataset('clusters_04_May.nc')\n",
    "June_clust = xr.open_dataset('clusters_05_June.nc')\n",
    "July_clust = xr.open_dataset('clusters_06_July.nc')\n",
    "August_clust = xr.open_dataset('clusters_07_August.nc')\n",
    "September_clust = xr.open_dataset('clusters_08_September.nc')\n",
    "October_clust = xr.open_dataset('clusters_09_October.nc')\n",
    "November_clust = xr.open_dataset('clusters_10_November.nc')\n",
    "December_clust = xr.open_dataset('clusters_11_December.nc')"
   ]
  },
  {
   "cell_type": "code",
   "execution_count": 9,
   "metadata": {},
   "outputs": [
    {
     "data": {
      "text/plain": [
       "array([[nan, nan, nan, ..., nan, nan, nan],\n",
       "       [nan, nan, nan, ..., nan, nan, nan],\n",
       "       [nan, nan, nan, ..., nan, nan, nan],\n",
       "       ...,\n",
       "       [nan, nan, nan, ..., nan, nan, nan],\n",
       "       [nan, nan, nan, ..., nan, nan, nan],\n",
       "       [nan, nan, nan, ..., nan, nan, nan]])"
      ]
     },
     "execution_count": 9,
     "metadata": {},
     "output_type": "execute_result"
    }
   ],
   "source": [
    "jan_clust['cluster'].to_numpy()"
   ]
  }
 ],
 "metadata": {
  "kernelspec": {
   "display_name": "analysis-cassidy",
   "language": "python",
   "name": "python3"
  },
  "language_info": {
   "codemirror_mode": {
    "name": "ipython",
    "version": 3
   },
   "file_extension": ".py",
   "mimetype": "text/x-python",
   "name": "python",
   "nbconvert_exporter": "python",
   "pygments_lexer": "ipython3",
   "version": "3.10.6"
  }
 },
 "nbformat": 4,
 "nbformat_minor": 2
}
