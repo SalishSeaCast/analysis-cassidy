{
 "cells": [
  {
   "cell_type": "code",
   "execution_count": 34,
   "metadata": {},
   "outputs": [],
   "source": [
    "import numpy as np\n",
    "import matplotlib.pyplot as plt\n",
    "import xarray as xr\n",
    "import pandas as pd\n",
    "pd.options.mode.chained_assignment = None  # default='warn'\n",
    "import cmocean.cm as cm\n",
    "import cartopy.crs as ccrs"
   ]
  },
  {
   "cell_type": "code",
   "execution_count": 35,
   "metadata": {},
   "outputs": [],
   "source": [
    "#TODO: do unit conversion and matching, reference ERDAPP metadata sites (also there should be an example file from Susan?)"
   ]
  },
  {
   "cell_type": "markdown",
   "metadata": {},
   "source": [
    "https://data.cioospacific.ca/erddap/info/index.html?page=1&itemsPerPage=1000\n",
    "\n",
    "link above can navigate to the metadata for all these datasets"
   ]
  },
  {
   "cell_type": "code",
   "execution_count": 137,
   "metadata": {},
   "outputs": [
    {
     "name": "stdout",
     "output_type": "stream",
     "text": [
      "        latitude     longitude                  time TEMPTC01 PSALPR01  depth\n",
      "0  degrees_north  degrees_east                   UTC     degC   PSS-78    0.5\n",
      "1        48.9222     -125.5408  2019-11-23T00:00:00Z      9.7     28.8    0.5\n",
      "        latitude     longitude                  time TEMPS901 PSALST01  depth\n",
      "0  degrees_north  degrees_east                   UTC     degC   PSS-78    0.5\n",
      "1        48.9222     -125.5408  2019-11-23T00:00:00Z      9.7     28.8    0.5\n",
      "        latitude     longitude                  time TEMPS901 PSALST01  depth\n",
      "0  degrees_north  degrees_east                   UTC     degC   PSS-78    0.5\n",
      "1        48.9222     -125.5408  2019-11-23T00:00:00Z      9.7     28.8    0.5\n"
     ]
    }
   ],
   "source": [
    "data = pd.read_csv('ElwhaPoly_01_BCLightstation_08032023_OG.csv')\n",
    "list(data.columns)\n",
    "needed = data[['latitude','longitude','time', 'TEMPTC01','PSALPR01']]\n",
    "sea_surface = np.zeros(len(needed)) + 0.5\n",
    "needed['depth'] = sea_surface\n",
    "print(needed.head(2))\n",
    "needed = needed.rename(columns={\"TEMPTC01\": \"TEMPS901\", \"PSALPR01\":\"PSALST01\"})\n",
    "print(needed.head(2))\n",
    "\n",
    "needed.to_csv('ElwhaPoly_01_BCLightstation_08032023.csv',index=False)\n",
    "Elwha_01 = needed\n",
    "\n",
    "print(Elwha_01.head(2))"
   ]
  },
  {
   "cell_type": "code",
   "execution_count": 37,
   "metadata": {},
   "outputs": [],
   "source": [
    "#TODO: re-download some of this data, it's all NaN right now\n",
    "data = pd.read_csv('ElwhaPoly_02_BCLightstation_08032023_OG.csv')\n",
    "# list(data.columns)\n",
    "# needed = data[['latitude','longitude','time', 'TEMPTC01','PSALPR01']]\n",
    "# sea_surface = np.zeros(len(needed)) + 0.5\n",
    "# needed['depth'] = sea_surface\n",
    "# needed"
   ]
  },
  {
   "cell_type": "code",
   "execution_count": 63,
   "metadata": {},
   "outputs": [],
   "source": [
    "data = pd.read_csv('ElwhaPoly_03_IOSRosetteBottle_08032023_OG.csv')\n",
    "list(data.columns)\n",
    "needed = data[['latitude','longitude', 'time', 'TEMPS901', 'PSALST01', 'depth']]\n",
    "\n",
    "needed.to_csv('ElwhaPoly_03_IOSRosetteBottle_08032023.csv',index=False)\n",
    "Elwha_03 = needed"
   ]
  },
  {
   "cell_type": "code",
   "execution_count": 55,
   "metadata": {},
   "outputs": [],
   "source": [
    "data = pd.read_csv('ElwhaPoly_04_IOSCTDProfile_08032023_OG.csv')\n",
    "list(data.columns)\n",
    "needed = data[['latitude','longitude', 'time', 'TEMPS901', 'PSALST01', 'depth']]\n",
    "\n",
    "needed.to_csv('ElwhaPoly_04_IOSCTDProfile_08032023.csv',index=False)\n",
    "Elwha_04 = needed"
   ]
  },
  {
   "cell_type": "code",
   "execution_count": 64,
   "metadata": {},
   "outputs": [
    {
     "name": "stderr",
     "output_type": "stream",
     "text": [
      "/tmp/ipykernel_2332591/553482937.py:1: DtypeWarning: Columns (5,11,12,13,14,23,24,27,30,32,33,35,36,38,39,42,45,48,51,54,57,60,63) have mixed types. Specify dtype option on import or set low_memory=False.\n",
      "  data = pd.read_csv('HomathkoPoly_01_HakaiProfiles_08032023_OG.csv')\n"
     ]
    }
   ],
   "source": [
    "data = pd.read_csv('HomathkoPoly_01_HakaiProfiles_08032023_OG.csv')\n",
    "needed = data[['latitude','longitude', 'time', 'temperature', 'salinity', 'depth']]\n",
    "# assumed that the temperatures are the same and that PSS-78 is the same as PSU as according to google. not sure about g/kg from here?\n",
    "needed = needed.rename(columns={\"temperature\": \"TEMPS901\", \"salinity\":\"PSALST01\"})  #TODO: check the units on this one specifically\n",
    "\n",
    "needed.to_csv('HomathkoPoly_01_HakaiProfiles_08032023.csv',index=False)\n",
    "Homathko_01 = needed"
   ]
  },
  {
   "cell_type": "code",
   "execution_count": 57,
   "metadata": {},
   "outputs": [],
   "source": [
    "data = pd.read_csv('HomathkoPoly_03_IOSRosetteBottle_08032023_OG.csv')\n",
    "needed = data[['latitude','longitude', 'time', 'TEMPS901', 'PSALST01', 'depth']]\n",
    "\n",
    "needed.to_csv('HomathkoPoly_03_IOSRosetteBottle_08032023.csv',index=False)\n",
    "Homathko_03 = needed"
   ]
  },
  {
   "cell_type": "code",
   "execution_count": 58,
   "metadata": {},
   "outputs": [],
   "source": [
    "data = pd.read_csv('HomathkoPoly_04_IOSCTDProfile_08032023_OG.csv')\n",
    "needed = data[['latitude','longitude', 'time', 'TEMPS901', 'PSALST01', 'depth']]\n",
    "\n",
    "needed.to_csv('HomathkoPoly_04_IOSCTDProfile_08032023.csv',index=False)\n",
    "Homathko_04 = needed"
   ]
  },
  {
   "cell_type": "code",
   "execution_count": 59,
   "metadata": {},
   "outputs": [],
   "source": [
    "data = pd.read_csv('SquamishPoly_01_IOSRosetteBottle_08032023_OG.csv')\n",
    "needed = data[['latitude','longitude', 'time', 'TEMPS901', 'PSALST01', 'depth']]\n",
    "\n",
    "needed.to_csv('SquamishPoly_01_IOSRosetteBottle_08032023.csv',index=False)\n",
    "Squamish_01 = needed"
   ]
  },
  {
   "cell_type": "code",
   "execution_count": 60,
   "metadata": {},
   "outputs": [],
   "source": [
    "data = pd.read_csv('SquamishPoly_02_IOSCTSProfile_08032023_OG.csv')\n",
    "needed = data[['latitude','longitude', 'time', 'TEMPS901', 'PSALST01', 'depth']]\n",
    "\n",
    "needed.to_csv('SquamishPoly_02_IOSCTSProfile_08032023.csv',index=False)\n",
    "Squamish_02 = needed"
   ]
  },
  {
   "cell_type": "code",
   "execution_count": 147,
   "metadata": {},
   "outputs": [],
   "source": [
    "units = Elwha_01.head(1)"
   ]
  },
  {
   "cell_type": "code",
   "execution_count": 148,
   "metadata": {},
   "outputs": [],
   "source": [
    "all_data = pd.concat([Elwha_01, Elwha_03.tail(-1), Elwha_04.tail(-1), Homathko_01.tail(-1), Homathko_03.tail(-1), Homathko_04.tail(-1), Squamish_01.tail(-1), Squamish_02.tail(-1)], ignore_index=True)\n",
    "all_data['year'] = [i.split('-')[0] for i in all_data['time']]\n",
    "data_2023 = pd.concat([units, all_data[all_data['year'] == '2023']], ignore_index=True)\n",
    "# data_2022 = all_data[all_data['year'] == '2022']\n",
    "# data_2021 = all_data[all_data['year'] == '2021']\n",
    "# data_2020 = all_data[all_data['year'] == '2020']\n",
    "data_2019 = pd.concat([units, all_data[all_data['year'] == '2019']], ignore_index=True)\n",
    "# data_2018 = all_data[all_data['year'] == '2018']"
   ]
  },
  {
   "cell_type": "code",
   "execution_count": 150,
   "metadata": {},
   "outputs": [],
   "source": [
    "data_2023.to_csv('Polysel_data_2023.csv', index=False)\n",
    "data_2019.to_csv('Polysel_data_2019.csv', index=False)"
   ]
  },
  {
   "cell_type": "markdown",
   "metadata": {},
   "source": [
    "## Fix the IOS files"
   ]
  },
  {
   "cell_type": "code",
   "execution_count": 45,
   "metadata": {},
   "outputs": [],
   "source": [
    "good = pd.read_csv('ElwhaPoly_03_IOSRosetteBottle_08032023.csv')\n",
    "\n",
    "IOS_Elwha_CTD = pd.read_csv('ElwhaPoly_04_IOSCTDProfile_08032023.csv')\n",
    "IOS_Homathko_CTD = pd.read_csv('HomathkoPoly_04_IOSCTDProfile_08032023.csv')\n",
    "IOS_Squamish_CTD = pd.read_csv('SquamishPoly_02_IOSCTSProfile_08032023.csv')"
   ]
  },
  {
   "cell_type": "code",
   "execution_count": 46,
   "metadata": {},
   "outputs": [
    {
     "data": {
      "image/png": "[encoded data removed]",
      "text/plain": [
       "<Figure size 640x480 with 1 Axes>"
      ]
     },
     "metadata": {},
     "output_type": "display_data"
    }
   ],
   "source": [
    "# # cmap = cm.haline\n",
    "# cmap = 'Greys'\n",
    "# # cmap.set_bad('gray')\n",
    "# fig, ax = plt.subplots(1, 1, figsize=(5, 9))\n",
    "# # salinity = np.ma.masked_array(phys_rivers.vosaline[1, 0], mask=tmask[0])\n",
    "# colours = ax.pcolormesh(tmask*0.5, vmin=0, vmax=1, cmap=cmap)\n",
    "# # cb = fig.colorbar(colours, ax=ax)\n",
    "\n",
    "ax = plt.axes(projection=ccrs.PlateCarree())\n",
    "# ax.set_extent([-125.08483,-123.2405, 49.369167,50.828167])\n",
    "ax.set_extent([-180,180, -90,90])\n",
    "\n",
    "ax.coastlines()\n",
    "# ax.add_feature(cfeature.LAND)\n",
    "\n",
    "\n",
    "ax.scatter(good['longitude'][1:-1], good['latitude'][1:-1])\n",
    "ax.scatter(IOS_Elwha_CTD['longitude'][1:-1], IOS_Elwha_CTD['latitude'][1:-1])\n",
    "ax.scatter(IOS_Homathko_CTD['longitude'][1:-1], IOS_Homathko_CTD['latitude'][1:-1])\n",
    "ax.scatter(IOS_Squamish_CTD['longitude'][1:-1], IOS_Squamish_CTD['latitude'][1:-1])\n",
    "# ax.scatter(comparisons2['i'], comparisons2['j'], alpha=0.5)\n",
    "\n",
    "plt.show()"
   ]
  },
  {
   "cell_type": "code",
   "execution_count": 47,
   "metadata": {},
   "outputs": [
    {
     "data": {
      "text/html": [
       "<div>\n",
       "<style scoped>\n",
       "    .dataframe tbody tr th:only-of-type {\n",
       "        vertical-align: middle;\n",
       "    }\n",
       "\n",
       "    .dataframe tbody tr th {\n",
       "        vertical-align: top;\n",
       "    }\n",
       "\n",
       "    .dataframe thead th {\n",
       "        text-align: right;\n",
       "    }\n",
       "</style>\n",
       "<table border=\"1\" class=\"dataframe\">\n",
       "  <thead>\n",
       "    <tr style=\"text-align: right;\">\n",
       "      <th></th>\n",
       "      <th>latitude</th>\n",
       "      <th>longitude</th>\n",
       "      <th>time</th>\n",
       "      <th>TEMPS901</th>\n",
       "      <th>PSALST01</th>\n",
       "      <th>depth</th>\n",
       "    </tr>\n",
       "  </thead>\n",
       "  <tbody>\n",
       "    <tr>\n",
       "      <th>0</th>\n",
       "      <td>degrees_north</td>\n",
       "      <td>degrees_east</td>\n",
       "      <td>UTC</td>\n",
       "      <td>degC</td>\n",
       "      <td>PSS-78</td>\n",
       "      <td>m</td>\n",
       "    </tr>\n",
       "    <tr>\n",
       "      <th>1</th>\n",
       "      <td>49.369167</td>\n",
       "      <td>-124.082</td>\n",
       "      <td>2023-02-26T04:23:31Z</td>\n",
       "      <td>6.8558</td>\n",
       "      <td>29.0733</td>\n",
       "      <td>2.3</td>\n",
       "    </tr>\n",
       "    <tr>\n",
       "      <th>2</th>\n",
       "      <td>49.403168</td>\n",
       "      <td>-124.14917</td>\n",
       "      <td>2023-02-26T05:37:06Z</td>\n",
       "      <td>7.1378</td>\n",
       "      <td>29.3778</td>\n",
       "      <td>2.5</td>\n",
       "    </tr>\n",
       "    <tr>\n",
       "      <th>3</th>\n",
       "      <td>49.403168</td>\n",
       "      <td>-124.14917</td>\n",
       "      <td>2023-02-26T05:37:06Z</td>\n",
       "      <td>7.0784</td>\n",
       "      <td>29.3521</td>\n",
       "      <td>5.6</td>\n",
       "    </tr>\n",
       "    <tr>\n",
       "      <th>4</th>\n",
       "      <td>49.403168</td>\n",
       "      <td>-124.14917</td>\n",
       "      <td>2023-02-26T05:37:06Z</td>\n",
       "      <td>8.9022</td>\n",
       "      <td>30.9274</td>\n",
       "      <td>277.6</td>\n",
       "    </tr>\n",
       "  </tbody>\n",
       "</table>\n",
       "</div>"
      ],
      "text/plain": [
       "        latitude     longitude                  time TEMPS901 PSALST01  depth\n",
       "0  degrees_north  degrees_east                   UTC     degC   PSS-78      m\n",
       "1      49.369167      -124.082  2023-02-26T04:23:31Z   6.8558  29.0733    2.3\n",
       "2      49.403168    -124.14917  2023-02-26T05:37:06Z   7.1378  29.3778    2.5\n",
       "3      49.403168    -124.14917  2023-02-26T05:37:06Z   7.0784  29.3521    5.6\n",
       "4      49.403168    -124.14917  2023-02-26T05:37:06Z   8.9022  30.9274  277.6"
      ]
     },
     "execution_count": 47,
     "metadata": {},
     "output_type": "execute_result"
    }
   ],
   "source": [
    "good.head(5)"
   ]
  },
  {
   "cell_type": "code",
   "execution_count": 48,
   "metadata": {},
   "outputs": [
    {
     "data": {
      "text/html": [
       "<div>\n",
       "<style scoped>\n",
       "    .dataframe tbody tr th:only-of-type {\n",
       "        vertical-align: middle;\n",
       "    }\n",
       "\n",
       "    .dataframe tbody tr th {\n",
       "        vertical-align: top;\n",
       "    }\n",
       "\n",
       "    .dataframe thead th {\n",
       "        text-align: right;\n",
       "    }\n",
       "</style>\n",
       "<table border=\"1\" class=\"dataframe\">\n",
       "  <thead>\n",
       "    <tr style=\"text-align: right;\">\n",
       "      <th></th>\n",
       "      <th>latitude</th>\n",
       "      <th>longitude</th>\n",
       "      <th>time</th>\n",
       "      <th>TEMPS901</th>\n",
       "      <th>PSALST01</th>\n",
       "      <th>depth</th>\n",
       "    </tr>\n",
       "  </thead>\n",
       "  <tbody>\n",
       "    <tr>\n",
       "      <th>0</th>\n",
       "      <td>degrees_north</td>\n",
       "      <td>degrees_east</td>\n",
       "      <td>UTC</td>\n",
       "      <td>degC</td>\n",
       "      <td>PSS-78</td>\n",
       "      <td>m</td>\n",
       "    </tr>\n",
       "    <tr>\n",
       "      <th>1</th>\n",
       "      <td>50.666534</td>\n",
       "      <td>-126.77157</td>\n",
       "      <td>2023-05-11T16:52:15Z</td>\n",
       "      <td>7.9476</td>\n",
       "      <td>31.0996</td>\n",
       "      <td>0.9</td>\n",
       "    </tr>\n",
       "    <tr>\n",
       "      <th>2</th>\n",
       "      <td>50.666534</td>\n",
       "      <td>-126.77157</td>\n",
       "      <td>2023-05-11T16:52:15Z</td>\n",
       "      <td>7.919</td>\n",
       "      <td>31.1139</td>\n",
       "      <td>1.9</td>\n",
       "    </tr>\n",
       "    <tr>\n",
       "      <th>3</th>\n",
       "      <td>50.666534</td>\n",
       "      <td>-126.77157</td>\n",
       "      <td>2023-05-11T16:52:15Z</td>\n",
       "      <td>7.9318</td>\n",
       "      <td>31.1368</td>\n",
       "      <td>2.9</td>\n",
       "    </tr>\n",
       "    <tr>\n",
       "      <th>4</th>\n",
       "      <td>50.666534</td>\n",
       "      <td>-126.77157</td>\n",
       "      <td>2023-05-11T16:52:15Z</td>\n",
       "      <td>7.9438</td>\n",
       "      <td>31.1449</td>\n",
       "      <td>3.9</td>\n",
       "    </tr>\n",
       "  </tbody>\n",
       "</table>\n",
       "</div>"
      ],
      "text/plain": [
       "        latitude     longitude                  time TEMPS901 PSALST01 depth\n",
       "0  degrees_north  degrees_east                   UTC     degC   PSS-78     m\n",
       "1      50.666534    -126.77157  2023-05-11T16:52:15Z   7.9476  31.0996   0.9\n",
       "2      50.666534    -126.77157  2023-05-11T16:52:15Z    7.919  31.1139   1.9\n",
       "3      50.666534    -126.77157  2023-05-11T16:52:15Z   7.9318  31.1368   2.9\n",
       "4      50.666534    -126.77157  2023-05-11T16:52:15Z   7.9438  31.1449   3.9"
      ]
     },
     "execution_count": 48,
     "metadata": {},
     "output_type": "execute_result"
    }
   ],
   "source": [
    "IOS_Elwha_CTD.head(5)"
   ]
  },
  {
   "cell_type": "code",
   "execution_count": 49,
   "metadata": {},
   "outputs": [
    {
     "data": {
      "text/html": [
       "<div>\n",
       "<style scoped>\n",
       "    .dataframe tbody tr th:only-of-type {\n",
       "        vertical-align: middle;\n",
       "    }\n",
       "\n",
       "    .dataframe tbody tr th {\n",
       "        vertical-align: top;\n",
       "    }\n",
       "\n",
       "    .dataframe thead th {\n",
       "        text-align: right;\n",
       "    }\n",
       "</style>\n",
       "<table border=\"1\" class=\"dataframe\">\n",
       "  <thead>\n",
       "    <tr style=\"text-align: right;\">\n",
       "      <th></th>\n",
       "      <th>latitude</th>\n",
       "      <th>longitude</th>\n",
       "      <th>time</th>\n",
       "      <th>TEMPS901</th>\n",
       "      <th>PSALST01</th>\n",
       "      <th>depth</th>\n",
       "    </tr>\n",
       "  </thead>\n",
       "  <tbody>\n",
       "    <tr>\n",
       "      <th>0</th>\n",
       "      <td>degrees_north</td>\n",
       "      <td>degrees_east</td>\n",
       "      <td>UTC</td>\n",
       "      <td>degC</td>\n",
       "      <td>PSS-78</td>\n",
       "      <td>m</td>\n",
       "    </tr>\n",
       "    <tr>\n",
       "      <th>1</th>\n",
       "      <td>50.666534</td>\n",
       "      <td>-126.77157</td>\n",
       "      <td>2023-05-11T16:52:15Z</td>\n",
       "      <td>7.9476</td>\n",
       "      <td>31.0996</td>\n",
       "      <td>0.9</td>\n",
       "    </tr>\n",
       "    <tr>\n",
       "      <th>2</th>\n",
       "      <td>50.666534</td>\n",
       "      <td>-126.77157</td>\n",
       "      <td>2023-05-11T16:52:15Z</td>\n",
       "      <td>7.919</td>\n",
       "      <td>31.1139</td>\n",
       "      <td>1.9</td>\n",
       "    </tr>\n",
       "    <tr>\n",
       "      <th>3</th>\n",
       "      <td>50.666534</td>\n",
       "      <td>-126.77157</td>\n",
       "      <td>2023-05-11T16:52:15Z</td>\n",
       "      <td>7.9318</td>\n",
       "      <td>31.1368</td>\n",
       "      <td>2.9</td>\n",
       "    </tr>\n",
       "    <tr>\n",
       "      <th>4</th>\n",
       "      <td>50.666534</td>\n",
       "      <td>-126.77157</td>\n",
       "      <td>2023-05-11T16:52:15Z</td>\n",
       "      <td>7.9438</td>\n",
       "      <td>31.1449</td>\n",
       "      <td>3.9</td>\n",
       "    </tr>\n",
       "  </tbody>\n",
       "</table>\n",
       "</div>"
      ],
      "text/plain": [
       "        latitude     longitude                  time TEMPS901 PSALST01 depth\n",
       "0  degrees_north  degrees_east                   UTC     degC   PSS-78     m\n",
       "1      50.666534    -126.77157  2023-05-11T16:52:15Z   7.9476  31.0996   0.9\n",
       "2      50.666534    -126.77157  2023-05-11T16:52:15Z    7.919  31.1139   1.9\n",
       "3      50.666534    -126.77157  2023-05-11T16:52:15Z   7.9318  31.1368   2.9\n",
       "4      50.666534    -126.77157  2023-05-11T16:52:15Z   7.9438  31.1449   3.9"
      ]
     },
     "execution_count": 49,
     "metadata": {},
     "output_type": "execute_result"
    }
   ],
   "source": [
    "IOS_Homathko_CTD.head(5)"
   ]
  },
  {
   "cell_type": "code",
   "execution_count": 50,
   "metadata": {},
   "outputs": [
    {
     "data": {
      "text/html": [
       "<div>\n",
       "<style scoped>\n",
       "    .dataframe tbody tr th:only-of-type {\n",
       "        vertical-align: middle;\n",
       "    }\n",
       "\n",
       "    .dataframe tbody tr th {\n",
       "        vertical-align: top;\n",
       "    }\n",
       "\n",
       "    .dataframe thead th {\n",
       "        text-align: right;\n",
       "    }\n",
       "</style>\n",
       "<table border=\"1\" class=\"dataframe\">\n",
       "  <thead>\n",
       "    <tr style=\"text-align: right;\">\n",
       "      <th></th>\n",
       "      <th>latitude</th>\n",
       "      <th>longitude</th>\n",
       "      <th>time</th>\n",
       "      <th>TEMPS901</th>\n",
       "      <th>PSALST01</th>\n",
       "      <th>depth</th>\n",
       "    </tr>\n",
       "  </thead>\n",
       "  <tbody>\n",
       "    <tr>\n",
       "      <th>0</th>\n",
       "      <td>degrees_north</td>\n",
       "      <td>degrees_east</td>\n",
       "      <td>UTC</td>\n",
       "      <td>degC</td>\n",
       "      <td>PSS-78</td>\n",
       "      <td>m</td>\n",
       "    </tr>\n",
       "    <tr>\n",
       "      <th>1</th>\n",
       "      <td>50.666534</td>\n",
       "      <td>-126.77157</td>\n",
       "      <td>2023-05-11T16:52:15Z</td>\n",
       "      <td>7.9476</td>\n",
       "      <td>31.0996</td>\n",
       "      <td>0.9</td>\n",
       "    </tr>\n",
       "    <tr>\n",
       "      <th>2</th>\n",
       "      <td>50.666534</td>\n",
       "      <td>-126.77157</td>\n",
       "      <td>2023-05-11T16:52:15Z</td>\n",
       "      <td>7.919</td>\n",
       "      <td>31.1139</td>\n",
       "      <td>1.9</td>\n",
       "    </tr>\n",
       "    <tr>\n",
       "      <th>3</th>\n",
       "      <td>50.666534</td>\n",
       "      <td>-126.77157</td>\n",
       "      <td>2023-05-11T16:52:15Z</td>\n",
       "      <td>7.9318</td>\n",
       "      <td>31.1368</td>\n",
       "      <td>2.9</td>\n",
       "    </tr>\n",
       "    <tr>\n",
       "      <th>4</th>\n",
       "      <td>50.666534</td>\n",
       "      <td>-126.77157</td>\n",
       "      <td>2023-05-11T16:52:15Z</td>\n",
       "      <td>7.9438</td>\n",
       "      <td>31.1449</td>\n",
       "      <td>3.9</td>\n",
       "    </tr>\n",
       "  </tbody>\n",
       "</table>\n",
       "</div>"
      ],
      "text/plain": [
       "        latitude     longitude                  time TEMPS901 PSALST01 depth\n",
       "0  degrees_north  degrees_east                   UTC     degC   PSS-78     m\n",
       "1      50.666534    -126.77157  2023-05-11T16:52:15Z   7.9476  31.0996   0.9\n",
       "2      50.666534    -126.77157  2023-05-11T16:52:15Z    7.919  31.1139   1.9\n",
       "3      50.666534    -126.77157  2023-05-11T16:52:15Z   7.9318  31.1368   2.9\n",
       "4      50.666534    -126.77157  2023-05-11T16:52:15Z   7.9438  31.1449   3.9"
      ]
     },
     "execution_count": 50,
     "metadata": {},
     "output_type": "execute_result"
    }
   ],
   "source": [
    "IOS_Squamish_CTD.head(5)"
   ]
  },
  {
   "cell_type": "markdown",
   "metadata": {},
   "source": [
    "## Look at other csv for the units?"
   ]
  },
  {
   "cell_type": "code",
   "execution_count": 51,
   "metadata": {},
   "outputs": [],
   "source": [
    "mesh = xr.open_dataset('/home/sallen/MEOPAR/grid/mesh_mask202108.nc')\n",
    "# the mask is 1 where there is water, we want the opposite.  The meshmask has an extra dimension, hence the [0]\n",
    "tmask = 1 - mesh.tmask[0][0,:,:]"
   ]
  },
  {
   "cell_type": "code",
   "execution_count": 151,
   "metadata": {},
   "outputs": [
    {
     "data": {
      "text/plain": [
       "<matplotlib.collections.PathCollection at 0x7f15e2c1a6b0>"
      ]
     },
     "execution_count": 151,
     "metadata": {},
     "output_type": "execute_result"
    },
    {
     "data": {
      "image/png": "[encoded data removed]",
      "text/plain": [
       "<Figure size 500x900 with 1 Axes>"
      ]
     },
     "metadata": {},
     "output_type": "display_data"
    }
   ],
   "source": [
    "#TODO: make plot that shows all of the matched obs points\n",
    "comparisons_2023 = pd.read_csv('../ObsModel_202111_CIOOS_20230101_20230805.csv')\n",
    "comparisons_2019 = pd.read_csv('../ObsModel_202111_CIOOS_20190101_20191231.csv')\n",
    "\n",
    "# cmap = cm.haline\n",
    "cmap = 'Greys'\n",
    "# cmap.set_bad('gray')\n",
    "fig, ax = plt.subplots(1, 1, figsize=(5, 9))\n",
    "# salinity = np.ma.masked_array(phys_rivers.vosaline[1, 0], mask=tmask[0])\n",
    "colours = ax.pcolormesh(tmask*0.5, vmin=0, vmax=1, cmap=cmap)\n",
    "# cb = fig.colorbar(colours, ax=ax)\n",
    "\n",
    "ax.scatter(comparisons_2023['i'], comparisons_2023['j'], alpha=0.5)\n",
    "ax.scatter(comparisons_2019['i'], comparisons_2019['j'], alpha=0.5)"
   ]
  }
 ],
 "metadata": {
  "kernelspec": {
   "display_name": "analysis-cassidy",
   "language": "python",
   "name": "python3"
  },
  "language_info": {
   "codemirror_mode": {
    "name": "ipython",
    "version": 3
   },
   "file_extension": ".py",
   "mimetype": "text/x-python",
   "name": "python",
   "nbconvert_exporter": "python",
   "pygments_lexer": "ipython3",
   "version": "3.10.6"
  },
  "orig_nbformat": 4
 },
 "nbformat": 4,
 "nbformat_minor": 2
}
