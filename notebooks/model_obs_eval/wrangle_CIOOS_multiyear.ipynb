{
 "cells": [
  {
   "cell_type": "code",
   "execution_count": 19,
   "metadata": {},
   "outputs": [],
   "source": [
    "import numpy as np\n",
    "import matplotlib.pyplot as plt\n",
    "import xarray as xr\n",
    "import pandas as pd\n",
    "pd.options.mode.chained_assignment = None  # default='warn'\n",
    "import cmocean.cm as cm\n",
    "import cartopy.crs as ccrs\n",
    "import os\n",
    "import re"
   ]
  },
  {
   "cell_type": "code",
   "execution_count": 159,
   "metadata": {},
   "outputs": [],
   "source": [
    "#TODO: do unit conversion and matching, reference ERDAPP metadata sites (also there should be an example file from Susan?)"
   ]
  },
  {
   "cell_type": "markdown",
   "metadata": {},
   "source": [
    "https://data.cioospacific.ca/erddap/info/index.html?page=1&itemsPerPage=1000\n",
    "\n",
    "link above can navigate to the metadata for all these datasets"
   ]
  },
  {
   "cell_type": "code",
   "execution_count": 4,
   "metadata": {},
   "outputs": [],
   "source": [
    "fnames = os.listdir('../../../CIOOS/')"
   ]
  },
  {
   "cell_type": "code",
   "execution_count": 34,
   "metadata": {},
   "outputs": [
    {
     "name": "stdout",
     "output_type": "stream",
     "text": [
      "HakaiWaterPropertiesInstrumentProfileProvisional_catalogue_hakai_org.csv\n",
      "IOS_BOT_Profiles_data_cioospacific_ca_01.csv\n"
     ]
    },
    {
     "name": "stderr",
     "output_type": "stream",
     "text": [
      "/tmp/ipykernel_1017792/1176865617.py:5: DtypeWarning: Columns (11,12,13,14,23,24,27,30,33,36,39,41,42,44,45,47,48,50,51,54,57,60,63) have mixed types. Specify dtype option on import or set low_memory=False.\n",
      "  data = pd.read_csv('../../../CIOOS/' + file)\n",
      "/tmp/ipykernel_1017792/1176865617.py:5: DtypeWarning: Columns (10,11,12,13,22,23,24,25,26,27,29,30,32,33,34,35,36,37,38,39) have mixed types. Specify dtype option on import or set low_memory=False.\n",
      "  data = pd.read_csv('../../../CIOOS/' + file)\n"
     ]
    },
    {
     "name": "stdout",
     "output_type": "stream",
     "text": [
      "IOS_CTD_Profiles_data_cioospacific_ca_02.csv\n",
      "HakaiWaterPropertiesInstrumentProfileResearch_catalogue_hakai_org.csv\n",
      "IOS_CTD_Profiles_data_cioospacific_ca.csv\n",
      "IOS_BOT_Profiles_data_cioospacific_ca_02.csv\n",
      "IOS_CTD_Profiles_data_cioospacific_ca_01.csv\n",
      "IOS_BOT_Profiles_data_cioospacific_ca.csv\n"
     ]
    },
    {
     "name": "stderr",
     "output_type": "stream",
     "text": [
      "/tmp/ipykernel_1017792/1176865617.py:5: DtypeWarning: Columns (13,14,16,17,18,19,20,21,22,23,24,25,26,27,28,29,30,31) have mixed types. Specify dtype option on import or set low_memory=False.\n",
      "  data = pd.read_csv('../../../CIOOS/' + file)\n"
     ]
    }
   ],
   "source": [
    "cleaned = []\n",
    "\n",
    "for file in fnames:\n",
    "    print(file)\n",
    "    data = pd.read_csv('../../../CIOOS/' + file)\n",
    "    if re.search(r'Hakai*', file):\n",
    "        needed = data[['latitude','longitude','time', 'temperature','salinity', 'depth']]\n",
    "        needed = needed.rename(columns={\"temperature\": \"TEMPS901\", \"salinity\":\"PSALST01\"})\n",
    "    elif re.search(r'IOS_BOT*', file):\n",
    "        needed = data[['latitude','longitude','time', 'TEMPS901','PSALST01', 'depth']]\n",
    "    elif re.search(r'IOS_CTD*', file):\n",
    "        needed = data[['latitude','longitude','time', 'TEMPS901','PSALST01', 'depth']]\n",
    "    else:\n",
    "        print('no filename match for ' + file)\n",
    "    needed\n",
    "    cleaned = cleaned + [needed]"
   ]
  },
  {
   "cell_type": "code",
   "execution_count": 52,
   "metadata": {},
   "outputs": [
    {
     "data": {
      "text/html": [
       "<div>\n",
       "<style scoped>\n",
       "    .dataframe tbody tr th:only-of-type {\n",
       "        vertical-align: middle;\n",
       "    }\n",
       "\n",
       "    .dataframe tbody tr th {\n",
       "        vertical-align: top;\n",
       "    }\n",
       "\n",
       "    .dataframe thead th {\n",
       "        text-align: right;\n",
       "    }\n",
       "</style>\n",
       "<table border=\"1\" class=\"dataframe\">\n",
       "  <thead>\n",
       "    <tr style=\"text-align: right;\">\n",
       "      <th></th>\n",
       "      <th>latitude</th>\n",
       "      <th>longitude</th>\n",
       "      <th>time</th>\n",
       "      <th>TEMPS901</th>\n",
       "      <th>PSALST01</th>\n",
       "      <th>depth</th>\n",
       "    </tr>\n",
       "  </thead>\n",
       "  <tbody>\n",
       "    <tr>\n",
       "      <th>1</th>\n",
       "      <td>50.3151</td>\n",
       "      <td>-125.089</td>\n",
       "      <td>2014-08-15T16:21:48Z</td>\n",
       "      <td>9.8034</td>\n",
       "      <td>29.2711</td>\n",
       "      <td>23.82</td>\n",
       "    </tr>\n",
       "    <tr>\n",
       "      <th>2</th>\n",
       "      <td>50.3151</td>\n",
       "      <td>-125.089</td>\n",
       "      <td>2014-08-15T16:21:48Z</td>\n",
       "      <td>9.7659</td>\n",
       "      <td>29.2874</td>\n",
       "      <td>28.709</td>\n",
       "    </tr>\n",
       "    <tr>\n",
       "      <th>3</th>\n",
       "      <td>50.3151</td>\n",
       "      <td>-125.089</td>\n",
       "      <td>2014-08-15T16:21:48Z</td>\n",
       "      <td>9.7676</td>\n",
       "      <td>29.2906</td>\n",
       "      <td>29.725</td>\n",
       "    </tr>\n",
       "    <tr>\n",
       "      <th>4</th>\n",
       "      <td>50.3151</td>\n",
       "      <td>-125.089</td>\n",
       "      <td>2014-08-15T16:21:48Z</td>\n",
       "      <td>9.7713</td>\n",
       "      <td>29.2886</td>\n",
       "      <td>30.743</td>\n",
       "    </tr>\n",
       "    <tr>\n",
       "      <th>5</th>\n",
       "      <td>50.3151</td>\n",
       "      <td>-125.089</td>\n",
       "      <td>2014-08-15T16:21:48Z</td>\n",
       "      <td>9.7724</td>\n",
       "      <td>29.2861</td>\n",
       "      <td>31.701</td>\n",
       "    </tr>\n",
       "    <tr>\n",
       "      <th>...</th>\n",
       "      <td>...</td>\n",
       "      <td>...</td>\n",
       "      <td>...</td>\n",
       "      <td>...</td>\n",
       "      <td>...</td>\n",
       "      <td>...</td>\n",
       "    </tr>\n",
       "    <tr>\n",
       "      <th>38211</th>\n",
       "      <td>50.33921</td>\n",
       "      <td>-125.117638</td>\n",
       "      <td>2023-07-20T21:34:42Z</td>\n",
       "      <td>10.145369</td>\n",
       "      <td>28.519141</td>\n",
       "      <td>19.762818</td>\n",
       "    </tr>\n",
       "    <tr>\n",
       "      <th>38212</th>\n",
       "      <td>50.33921</td>\n",
       "      <td>-125.117638</td>\n",
       "      <td>2023-07-20T21:34:42Z</td>\n",
       "      <td>10.114864</td>\n",
       "      <td>28.552273</td>\n",
       "      <td>20.795917</td>\n",
       "    </tr>\n",
       "    <tr>\n",
       "      <th>38213</th>\n",
       "      <td>50.33921</td>\n",
       "      <td>-125.117638</td>\n",
       "      <td>2023-07-20T21:34:42Z</td>\n",
       "      <td>10.083073</td>\n",
       "      <td>28.587533</td>\n",
       "      <td>21.78191</td>\n",
       "    </tr>\n",
       "    <tr>\n",
       "      <th>38214</th>\n",
       "      <td>50.33921</td>\n",
       "      <td>-125.117638</td>\n",
       "      <td>2023-07-20T21:34:42Z</td>\n",
       "      <td>11.128673</td>\n",
       "      <td>27.043113</td>\n",
       "      <td>11.916438</td>\n",
       "    </tr>\n",
       "    <tr>\n",
       "      <th>38215</th>\n",
       "      <td>50.33921</td>\n",
       "      <td>-125.117638</td>\n",
       "      <td>2023-07-20T21:34:42Z</td>\n",
       "      <td>9.350147</td>\n",
       "      <td>29.492649</td>\n",
       "      <td>49.477976</td>\n",
       "    </tr>\n",
       "  </tbody>\n",
       "</table>\n",
       "<p>38215 rows × 6 columns</p>\n",
       "</div>"
      ],
      "text/plain": [
       "       latitude   longitude                  time   TEMPS901   PSALST01  \\\n",
       "1       50.3151    -125.089  2014-08-15T16:21:48Z     9.8034    29.2711   \n",
       "2       50.3151    -125.089  2014-08-15T16:21:48Z     9.7659    29.2874   \n",
       "3       50.3151    -125.089  2014-08-15T16:21:48Z     9.7676    29.2906   \n",
       "4       50.3151    -125.089  2014-08-15T16:21:48Z     9.7713    29.2886   \n",
       "5       50.3151    -125.089  2014-08-15T16:21:48Z     9.7724    29.2861   \n",
       "...         ...         ...                   ...        ...        ...   \n",
       "38211  50.33921 -125.117638  2023-07-20T21:34:42Z  10.145369  28.519141   \n",
       "38212  50.33921 -125.117638  2023-07-20T21:34:42Z  10.114864  28.552273   \n",
       "38213  50.33921 -125.117638  2023-07-20T21:34:42Z  10.083073  28.587533   \n",
       "38214  50.33921 -125.117638  2023-07-20T21:34:42Z  11.128673  27.043113   \n",
       "38215  50.33921 -125.117638  2023-07-20T21:34:42Z   9.350147  29.492649   \n",
       "\n",
       "           depth  \n",
       "1          23.82  \n",
       "2         28.709  \n",
       "3         29.725  \n",
       "4         30.743  \n",
       "5         31.701  \n",
       "...          ...  \n",
       "38211  19.762818  \n",
       "38212  20.795917  \n",
       "38213   21.78191  \n",
       "38214  11.916438  \n",
       "38215  49.477976  \n",
       "\n",
       "[38215 rows x 6 columns]"
      ]
     },
     "execution_count": 52,
     "metadata": {},
     "output_type": "execute_result"
    }
   ],
   "source": [
    "cleaned[0].tail(-1)"
   ]
  },
  {
   "cell_type": "code",
   "execution_count": 54,
   "metadata": {},
   "outputs": [],
   "source": [
    "all_data = pd.concat([cleaned[0].tail(-1), cleaned[1].tail(-1), cleaned[2].tail(-1), cleaned[3].tail(-1), cleaned[4].tail(-1), cleaned[5].tail(-1), cleaned[6].tail(-1), cleaned[7].tail(-1)], ignore_index=True)\n",
    "all_data['year'] = [i.split('-')[0] for i in all_data['time']]"
   ]
  },
  {
   "cell_type": "code",
   "execution_count": 61,
   "metadata": {},
   "outputs": [
    {
     "data": {
      "text/html": [
       "<div>\n",
       "<style scoped>\n",
       "    .dataframe tbody tr th:only-of-type {\n",
       "        vertical-align: middle;\n",
       "    }\n",
       "\n",
       "    .dataframe tbody tr th {\n",
       "        vertical-align: top;\n",
       "    }\n",
       "\n",
       "    .dataframe thead th {\n",
       "        text-align: right;\n",
       "    }\n",
       "</style>\n",
       "<table border=\"1\" class=\"dataframe\">\n",
       "  <thead>\n",
       "    <tr style=\"text-align: right;\">\n",
       "      <th></th>\n",
       "      <th>latitude</th>\n",
       "      <th>longitude</th>\n",
       "      <th>time</th>\n",
       "      <th>TEMPS901</th>\n",
       "      <th>PSALST01</th>\n",
       "      <th>depth</th>\n",
       "    </tr>\n",
       "  </thead>\n",
       "  <tbody>\n",
       "    <tr>\n",
       "      <th>0</th>\n",
       "      <td>degrees_north</td>\n",
       "      <td>degrees_east</td>\n",
       "      <td>UTC</td>\n",
       "      <td>degC</td>\n",
       "      <td>PSS-78</td>\n",
       "      <td>m</td>\n",
       "    </tr>\n",
       "  </tbody>\n",
       "</table>\n",
       "</div>"
      ],
      "text/plain": [
       "        latitude     longitude time TEMPS901 PSALST01 depth\n",
       "0  degrees_north  degrees_east  UTC     degC   PSS-78     m"
      ]
     },
     "execution_count": 61,
     "metadata": {},
     "output_type": "execute_result"
    }
   ],
   "source": [
    "units = cleaned[1].head(1)\n",
    "units"
   ]
  },
  {
   "cell_type": "code",
   "execution_count": 73,
   "metadata": {},
   "outputs": [],
   "source": [
    "years = np.arange(2007, 2024)\n",
    "yearly_data = []\n",
    "for y in years:\n",
    "    data_year  = pd.concat([units, all_data[all_data['year'] == str(y)]], ignore_index=True)\n",
    "    data_year = data_year.drop(columns=['year'])\n",
    "    data_year.to_csv('CIOOS_' + str(y) + '.csv')"
   ]
  },
  {
   "cell_type": "code",
   "execution_count": 75,
   "metadata": {},
   "outputs": [],
   "source": [
    "all_out = all_data.drop(columns=['year'])\n",
    "all_out.to_csv('CIOOS_2007_2023.csv')"
   ]
  },
  {
   "cell_type": "markdown",
   "metadata": {},
   "source": [
    "## Look at other csv for the units?"
   ]
  },
  {
   "cell_type": "code",
   "execution_count": 178,
   "metadata": {},
   "outputs": [],
   "source": [
    "mesh = xr.open_dataset('/home/sallen/MEOPAR/grid/mesh_mask202108.nc')\n",
    "# the mask is 1 where there is water, we want the opposite.  The meshmask has an extra dimension, hence the [0]\n",
    "tmask = 1 - mesh.tmask[0][0,:,:]"
   ]
  },
  {
   "cell_type": "code",
   "execution_count": 191,
   "metadata": {},
   "outputs": [
    {
     "data": {
      "text/plain": [
       "<matplotlib.collections.PathCollection at 0x7f15e137ae90>"
      ]
     },
     "execution_count": 191,
     "metadata": {},
     "output_type": "execute_result"
    },
    {
     "data": {
      "image/png": "[encoded data removed]",
      "text/plain": [
       "<Figure size 500x900 with 1 Axes>"
      ]
     },
     "metadata": {},
     "output_type": "display_data"
    }
   ],
   "source": [
    "#TODO: make plot that shows all of the matched obs points\n",
    "comparisons_2023 = pd.read_csv('../ObsModel_202111_CIOOS_20230101_20230805.csv')\n",
    "comparisons_2022 = pd.read_csv('../ObsModel_202111_CIOOS_20220101_20221231.csv')\n",
    "comparisons_2019 = pd.read_csv('../ObsModel_202111_CIOOS_20190101_20191231.csv')\n",
    "\n",
    "# cmap = cm.haline\n",
    "cmap = 'Greys'\n",
    "# cmap.set_bad('gray')\n",
    "fig, ax = plt.subplots(1, 1, figsize=(5, 9))\n",
    "# salinity = np.ma.masked_array(phys_rivers.vosaline[1, 0], mask=tmask[0])\n",
    "colours = ax.pcolormesh(tmask*0.5, vmin=0, vmax=1, cmap=cmap)\n",
    "# cb = fig.colorbar(colours, ax=ax)\n",
    "\n",
    "ax.scatter(comparisons_2023['i'], comparisons_2023['j'], alpha=0.5)\n",
    "ax.scatter(comparisons_2022['i'], comparisons_2022['j'], alpha=0.5)\n",
    "ax.scatter(comparisons_2019['i'], comparisons_2019['j'], alpha=0.5)"
   ]
  }
 ],
 "metadata": {
  "kernelspec": {
   "display_name": "analysis-cassidy",
   "language": "python",
   "name": "python3"
  },
  "language_info": {
   "codemirror_mode": {
    "name": "ipython",
    "version": 3
   },
   "file_extension": ".py",
   "mimetype": "text/x-python",
   "name": "python",
   "nbconvert_exporter": "python",
   "pygments_lexer": "ipython3",
   "version": "3.10.6"
  },
  "orig_nbformat": 4
 },
 "nbformat": 4,
 "nbformat_minor": 2
}
