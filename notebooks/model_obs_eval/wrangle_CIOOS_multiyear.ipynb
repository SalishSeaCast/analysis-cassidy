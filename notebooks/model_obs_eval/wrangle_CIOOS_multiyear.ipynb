{
 "cells": [
  {
   "cell_type": "code",
   "execution_count": 6,
   "metadata": {},
   "outputs": [],
   "source": [
    "import numpy as np\n",
    "import matplotlib.pyplot as plt\n",
    "import xarray as xr\n",
    "import pandas as pd\n",
    "pd.options.mode.chained_assignment = None  # default='warn'\n",
    "import cmocean.cm as cm\n",
    "import cartopy.crs as ccrs\n",
    "import os\n",
    "import re\n",
    "import glob\n",
    "import gsw"
   ]
  },
  {
   "cell_type": "code",
   "execution_count": 2,
   "metadata": {},
   "outputs": [],
   "source": [
    "#TODO: do unit conversion and matching, reference ERDAPP metadata sites (also there should be an example file from Susan?)"
   ]
  },
  {
   "cell_type": "markdown",
   "metadata": {},
   "source": [
    "https://data.cioospacific.ca/erddap/info/index.html?page=1&itemsPerPage=1000\n",
    "\n",
    "link above can navigate to the metadata for all these datasets"
   ]
  },
  {
   "cell_type": "code",
   "execution_count": 2,
   "metadata": {},
   "outputs": [],
   "source": [
    "fnames = os.listdir('../../../CIOOS/')"
   ]
  },
  {
   "cell_type": "code",
   "execution_count": 27,
   "metadata": {},
   "outputs": [
    {
     "name": "stdout",
     "output_type": "stream",
     "text": [
      "HakaiWaterPropertiesInstrumentProfileProvisional_catalogue_hakai_org.csv\n"
     ]
    },
    {
     "name": "stderr",
     "output_type": "stream",
     "text": [
      "/tmp/ipykernel_1787914/3236286627.py:5: DtypeWarning: Columns (11,12,13,14,23,24,27,30,33,36,39,41,42,44,45,47,48,50,51,54,57,60,63) have mixed types. Specify dtype option on import or set low_memory=False.\n",
      "  data = pd.read_csv('../../../CIOOS/' + file)\n",
      "/tmp/ipykernel_1787914/3236286627.py:5: DtypeWarning: Columns (10,11,12,13,22,23,24,25,26,27,29,30,32,33,34,35,36,37,38,39) have mixed types. Specify dtype option on import or set low_memory=False.\n",
      "  data = pd.read_csv('../../../CIOOS/' + file)\n"
     ]
    },
    {
     "name": "stdout",
     "output_type": "stream",
     "text": [
      "IOS_BOT_Profiles_data_cioospacific_ca_01.csv\n",
      "IOS_CTD_Profiles_data_cioospacific_ca_02.csv\n",
      "HakaiWaterPropertiesInstrumentProfileResearch_catalogue_hakai_org.csv\n",
      "IOS_CTD_Profiles_data_cioospacific_ca.csv\n",
      "IOS_BOT_Profiles_data_cioospacific_ca_02.csv\n",
      "IOS_CTD_Profiles_data_cioospacific_ca_01.csv\n",
      "IOS_BOT_Profiles_data_cioospacific_ca.csv\n"
     ]
    },
    {
     "name": "stderr",
     "output_type": "stream",
     "text": [
      "/tmp/ipykernel_1787914/3236286627.py:5: DtypeWarning: Columns (13,14,16,17,18,19,20,21,22,23,24,25,26,27,28,29,30,31) have mixed types. Specify dtype option on import or set low_memory=False.\n",
      "  data = pd.read_csv('../../../CIOOS/' + file)\n"
     ]
    }
   ],
   "source": [
    "cleaned = []\n",
    "\n",
    "for file in fnames:\n",
    "    print(file)\n",
    "    data = pd.read_csv('../../../CIOOS/' + file)\n",
    "    if re.search(r'Hakai*', file):\n",
    "        needed = data[['latitude','longitude','time', 'temperature','salinity', 'depth', 'pressure']]\n",
    "        needed = needed.rename(columns={\"temperature\": \"TEMPS901\", \"salinity\":\"PSALST01\"}).tail(-1)\n",
    "    elif re.search(r'IOS_BOT*', file):\n",
    "        needed = data[['latitude','longitude','time', 'TEMPS901','PSALST01', 'depth', \"sea_water_pressure\"]].tail(-1)\n",
    "        needed = needed.rename(columns={'sea_water_pressure': 'pressure'})\n",
    "    elif re.search(r'IOS_CTD*', file):\n",
    "        needed = data[['latitude','longitude','time', 'TEMPS901','PSALST01', 'depth', 'sea_water_pressure']].tail(-1)\n",
    "        needed = needed.rename(columns={'sea_water_pressure': 'pressure'})\n",
    "    else:\n",
    "        print('no filename match for ' + file)\n",
    "    needed['SA'] = gsw.conversions.SA_from_SP(needed['PSALST01'].values, needed['pressure'].values, needed['longitude'].values, needed['latitude'].values)\n",
    "    cleaned = cleaned + [needed]"
   ]
  },
  {
   "cell_type": "code",
   "execution_count": 28,
   "metadata": {},
   "outputs": [
    {
     "data": {
      "text/html": [
       "<div>\n",
       "<style scoped>\n",
       "    .dataframe tbody tr th:only-of-type {\n",
       "        vertical-align: middle;\n",
       "    }\n",
       "\n",
       "    .dataframe tbody tr th {\n",
       "        vertical-align: top;\n",
       "    }\n",
       "\n",
       "    .dataframe thead th {\n",
       "        text-align: right;\n",
       "    }\n",
       "</style>\n",
       "<table border=\"1\" class=\"dataframe\">\n",
       "  <thead>\n",
       "    <tr style=\"text-align: right;\">\n",
       "      <th></th>\n",
       "      <th>latitude</th>\n",
       "      <th>longitude</th>\n",
       "      <th>time</th>\n",
       "      <th>TEMPS901</th>\n",
       "      <th>PSALST01</th>\n",
       "      <th>depth</th>\n",
       "      <th>pressure</th>\n",
       "      <th>SA</th>\n",
       "    </tr>\n",
       "  </thead>\n",
       "  <tbody>\n",
       "    <tr>\n",
       "      <th>1</th>\n",
       "      <td>49.342335</td>\n",
       "      <td>-123.47767</td>\n",
       "      <td>2009-02-27T20:18:03Z</td>\n",
       "      <td>6.2169</td>\n",
       "      <td>27.1951</td>\n",
       "      <td>5.0565267</td>\n",
       "      <td>5.1</td>\n",
       "      <td>27.327277</td>\n",
       "    </tr>\n",
       "    <tr>\n",
       "      <th>2</th>\n",
       "      <td>49.342335</td>\n",
       "      <td>-123.47767</td>\n",
       "      <td>2009-02-27T20:18:03Z</td>\n",
       "      <td>7.7056</td>\n",
       "      <td>29.6999</td>\n",
       "      <td>29.742477</td>\n",
       "      <td>30.0</td>\n",
       "      <td>29.843309</td>\n",
       "    </tr>\n",
       "    <tr>\n",
       "      <th>3</th>\n",
       "      <td>49.342335</td>\n",
       "      <td>-123.47767</td>\n",
       "      <td>2009-02-27T20:18:03Z</td>\n",
       "      <td>7.7227</td>\n",
       "      <td>29.7218</td>\n",
       "      <td>30.733818</td>\n",
       "      <td>31.0</td>\n",
       "      <td>29.865301</td>\n",
       "    </tr>\n",
       "    <tr>\n",
       "      <th>4</th>\n",
       "      <td>49.342335</td>\n",
       "      <td>-123.47767</td>\n",
       "      <td>2009-02-27T20:18:03Z</td>\n",
       "      <td>7.7602</td>\n",
       "      <td>29.7787</td>\n",
       "      <td>31.725155</td>\n",
       "      <td>32.0</td>\n",
       "      <td>29.922462</td>\n",
       "    </tr>\n",
       "    <tr>\n",
       "      <th>5</th>\n",
       "      <td>49.342335</td>\n",
       "      <td>-123.47767</td>\n",
       "      <td>2009-02-27T20:18:03Z</td>\n",
       "      <td>7.7822</td>\n",
       "      <td>29.81</td>\n",
       "      <td>32.716488</td>\n",
       "      <td>33.0</td>\n",
       "      <td>29.953899</td>\n",
       "    </tr>\n",
       "    <tr>\n",
       "      <th>...</th>\n",
       "      <td>...</td>\n",
       "      <td>...</td>\n",
       "      <td>...</td>\n",
       "      <td>...</td>\n",
       "      <td>...</td>\n",
       "      <td>...</td>\n",
       "      <td>...</td>\n",
       "      <td>...</td>\n",
       "    </tr>\n",
       "    <tr>\n",
       "      <th>3285</th>\n",
       "      <td>49.676666</td>\n",
       "      <td>-123.17333</td>\n",
       "      <td>2023-03-05T14:04:39Z</td>\n",
       "      <td>7.7059</td>\n",
       "      <td>30.0944</td>\n",
       "      <td>20.8</td>\n",
       "      <td>21.0</td>\n",
       "      <td>30.240401</td>\n",
       "    </tr>\n",
       "    <tr>\n",
       "      <th>3286</th>\n",
       "      <td>49.676666</td>\n",
       "      <td>-123.17333</td>\n",
       "      <td>2023-03-05T14:04:39Z</td>\n",
       "      <td>7.7205</td>\n",
       "      <td>30.105</td>\n",
       "      <td>21.8</td>\n",
       "      <td>22.0</td>\n",
       "      <td>30.250987</td>\n",
       "    </tr>\n",
       "    <tr>\n",
       "      <th>3287</th>\n",
       "      <td>49.676666</td>\n",
       "      <td>-123.17333</td>\n",
       "      <td>2023-03-05T14:04:39Z</td>\n",
       "      <td>7.7337</td>\n",
       "      <td>30.1134</td>\n",
       "      <td>22.8</td>\n",
       "      <td>23.0</td>\n",
       "      <td>30.259362</td>\n",
       "    </tr>\n",
       "    <tr>\n",
       "      <th>3288</th>\n",
       "      <td>49.676666</td>\n",
       "      <td>-123.17333</td>\n",
       "      <td>2023-03-05T14:04:39Z</td>\n",
       "      <td>7.4744</td>\n",
       "      <td>29.8829</td>\n",
       "      <td>11.9</td>\n",
       "      <td>12.0</td>\n",
       "      <td>30.027972</td>\n",
       "    </tr>\n",
       "    <tr>\n",
       "      <th>3289</th>\n",
       "      <td>49.676666</td>\n",
       "      <td>-123.17333</td>\n",
       "      <td>2023-03-05T14:04:39Z</td>\n",
       "      <td>7.8997</td>\n",
       "      <td>30.2301</td>\n",
       "      <td>49.6</td>\n",
       "      <td>50.0</td>\n",
       "      <td>30.375930</td>\n",
       "    </tr>\n",
       "  </tbody>\n",
       "</table>\n",
       "<p>3289 rows × 8 columns</p>\n",
       "</div>"
      ],
      "text/plain": [
       "       latitude   longitude                  time TEMPS901 PSALST01  \\\n",
       "1     49.342335  -123.47767  2009-02-27T20:18:03Z   6.2169  27.1951   \n",
       "2     49.342335  -123.47767  2009-02-27T20:18:03Z   7.7056  29.6999   \n",
       "3     49.342335  -123.47767  2009-02-27T20:18:03Z   7.7227  29.7218   \n",
       "4     49.342335  -123.47767  2009-02-27T20:18:03Z   7.7602  29.7787   \n",
       "5     49.342335  -123.47767  2009-02-27T20:18:03Z   7.7822    29.81   \n",
       "...         ...         ...                   ...      ...      ...   \n",
       "3285  49.676666  -123.17333  2023-03-05T14:04:39Z   7.7059  30.0944   \n",
       "3286  49.676666  -123.17333  2023-03-05T14:04:39Z   7.7205   30.105   \n",
       "3287  49.676666  -123.17333  2023-03-05T14:04:39Z   7.7337  30.1134   \n",
       "3288  49.676666  -123.17333  2023-03-05T14:04:39Z   7.4744  29.8829   \n",
       "3289  49.676666  -123.17333  2023-03-05T14:04:39Z   7.8997  30.2301   \n",
       "\n",
       "          depth pressure         SA  \n",
       "1     5.0565267      5.1  27.327277  \n",
       "2     29.742477     30.0  29.843309  \n",
       "3     30.733818     31.0  29.865301  \n",
       "4     31.725155     32.0  29.922462  \n",
       "5     32.716488     33.0  29.953899  \n",
       "...         ...      ...        ...  \n",
       "3285       20.8     21.0  30.240401  \n",
       "3286       21.8     22.0  30.250987  \n",
       "3287       22.8     23.0  30.259362  \n",
       "3288       11.9     12.0  30.027972  \n",
       "3289       49.6     50.0  30.375930  \n",
       "\n",
       "[3289 rows x 8 columns]"
      ]
     },
     "execution_count": 28,
     "metadata": {},
     "output_type": "execute_result"
    }
   ],
   "source": [
    "cleaned[2]"
   ]
  },
  {
   "cell_type": "code",
   "execution_count": 29,
   "metadata": {},
   "outputs": [],
   "source": [
    "all_data = pd.concat([cleaned[0].tail(-1), cleaned[1].tail(-1), cleaned[2].tail(-1), cleaned[3].tail(-1), cleaned[4].tail(-1), cleaned[5].tail(-1), cleaned[6].tail(-1), cleaned[7].tail(-1)], ignore_index=True)\n",
    "all_data['year'] = [i.split('-')[0] for i in all_data['time']]"
   ]
  },
  {
   "cell_type": "code",
   "execution_count": 30,
   "metadata": {},
   "outputs": [],
   "source": [
    "# units = cleaned[1].head(1)\n",
    "# units"
   ]
  },
  {
   "cell_type": "code",
   "execution_count": 31,
   "metadata": {},
   "outputs": [],
   "source": [
    "years = np.arange(2007, 2024)\n",
    "yearly_data = []\n",
    "for y in years:\n",
    "    data_year  = pd.concat([all_data[all_data['year'] == str(y)]], ignore_index=True)\n",
    "    data_year = data_year.drop(columns=['year'])\n",
    "    data_year.to_csv('CIOOS_' + str(y) + '.csv')"
   ]
  },
  {
   "cell_type": "code",
   "execution_count": 32,
   "metadata": {},
   "outputs": [],
   "source": [
    "all_out = all_data.drop(columns=['year'])\n",
    "all_out = all_out.rename(columns={\"temperature\": \"TEMPS901\", \"PSALST01\":\"SA\"})\n",
    "all_out.to_csv('CIOOS_2007_2023.csv',index=False)"
   ]
  },
  {
   "cell_type": "markdown",
   "metadata": {},
   "source": [
    "## Look at other csv for the units?"
   ]
  },
  {
   "cell_type": "code",
   "execution_count": 33,
   "metadata": {},
   "outputs": [],
   "source": [
    "mesh = xr.open_dataset('/home/sallen/MEOPAR/grid/mesh_mask202108.nc')\n",
    "# the mask is 1 where there is water, we want the opposite.  The meshmask has an extra dimension, hence the [0]\n",
    "tmask = 1 - mesh.tmask[0][0,:,:]"
   ]
  },
  {
   "cell_type": "code",
   "execution_count": 34,
   "metadata": {},
   "outputs": [
    {
     "data": {
      "image/png": "[encoded data removed]",
      "text/plain": [
       "<Figure size 500x900 with 1 Axes>"
      ]
     },
     "metadata": {},
     "output_type": "display_data"
    }
   ],
   "source": [
    "fnames_obsmodel = glob.glob('ObsModel_*.csv')\n",
    "\n",
    "cmap = 'Greys'\n",
    "fig, ax = plt.subplots(1, 1, figsize=(5, 9))\n",
    "colours = ax.pcolormesh(tmask*0.5, vmin=0, vmax=1, cmap=cmap)\n",
    "\n",
    "for file in fnames_obsmodel:\n",
    "    comparisons = pd.read_csv(file)\n",
    "    ax.scatter(comparisons['i'][comparisons['Z'] <= 5], comparisons['j'][comparisons['Z'] <= 5], label=file)\n",
    "    # ax.scatter(comparisons['i'], comparisons['j'], alpha=0.5)\n",
    "\n",
    "# plt.legend()"
   ]
  }
 ],
 "metadata": {
  "kernelspec": {
   "display_name": "analysis-cassidy",
   "language": "python",
   "name": "python3"
  },
  "language_info": {
   "codemirror_mode": {
    "name": "ipython",
    "version": 3
   },
   "file_extension": ".py",
   "mimetype": "text/x-python",
   "name": "python",
   "nbconvert_exporter": "python",
   "pygments_lexer": "ipython3",
   "version": "3.10.6"
  },
  "orig_nbformat": 4
 },
 "nbformat": 4,
 "nbformat_minor": 2
}
